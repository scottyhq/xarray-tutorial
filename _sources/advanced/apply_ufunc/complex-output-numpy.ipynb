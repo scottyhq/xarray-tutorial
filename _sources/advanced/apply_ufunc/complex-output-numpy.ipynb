{
 "cells": [
  {
   "cell_type": "markdown",
   "id": "0",
   "metadata": {
    "tags": []
   },
   "source": [
    "(complex-output)=\n",
    "# Handling complex output\n",
    "\n",
    "We've seen how to use `apply_ufunc` to handle relatively simple functions that transform every element, or reduce along a single dimension.\n",
    "\n",
    "This lesson will show you how to handle cases where the output is more complex in two ways:\n",
    "1. Handle adding a new dimension by specifying `output_core_dims`\n",
    "1. Handling the change in size of an existing dimension by specifying `exclude_dims` in addition to `output_core_dims`\n",
    "\n",
    "\n",
    "## Introduction\n",
    "\n",
    "A good example of a function that returns relatively complex output is numpy's 1D interpolate function `numpy.interp`:\n",
    "\n",
    "```\n",
    "    Signature: np.interp(x, xp, fp, left=None, right=None, period=None)\n",
    "    Docstring:\n",
    "        One-dimensional linear interpolation.\n",
    "\n",
    "    Returns the one-dimensional piecewise linear interpolant to a function\n",
    "    with given discrete data points (`xp`, `fp`), evaluated at `x`.\n",
    "```\n",
    "\n",
    "This function expects a 1D array as input, and returns a 1D array as output. That is, `numpy.interp` has one core dimension.\n",
    "\n",
    "\n",
    "```{tip}\n",
    "We'll reduce the length of error messages using `%xmode minimal` See the [ipython documentation](https://ipython.readthedocs.io/en/stable/interactive/magics.html#magic-xmode) for details.\n",
    "```\n"
   ]
  },
  {
   "cell_type": "code",
   "execution_count": null,
   "id": "1",
   "metadata": {
    "tags": []
   },
   "outputs": [],
   "source": [
    "%xmode minimal\n",
    "\n",
    "import xarray as xr\n",
    "import numpy as np\n",
    "\n",
    "np.set_printoptions(threshold=10, edgeitems=2)\n",
    "xr.set_options(display_expand_data=False)\n",
    "\n",
    "air = (\n",
    "    xr.tutorial.load_dataset(\"air_temperature\")\n",
    "    .air.sortby(\"lat\")  # np.interp needs coordinate in ascending order\n",
    "    .isel(time=-0, lon=0)  # choose a 1D subset\n",
    ")\n",
    "air"
   ]
  },
  {
   "cell_type": "code",
   "execution_count": null,
   "id": "2",
   "metadata": {
    "tags": []
   },
   "outputs": [],
   "source": [
    "# Our goal is to densify from 25 to 100 coordinate values:s\n",
    "newlat = np.linspace(15, 75, 100)\n",
    "np.interp(newlat, air.lat.data, air.data)"
   ]
  },
  {
   "cell_type": "markdown",
   "id": "3",
   "metadata": {
    "tags": []
   },
   "source": [
    "(interp-add-new-dim)=\n",
    "## Adding a new dimension\n",
    "\n",
    "1D interpolation transforms the size of the input along a single dimension.\n",
    "\n",
    "Logically, we can think of this as removing the old dimension and adding a new dimension.\n",
    "\n",
    "We provide this information to `apply_ufunc` using the `output_core_dims` keyword argument\n",
    "\n",
    "```\n",
    "   output_core_dims : List[tuple], optional\n",
    "        List of the same length as the number of output arguments from\n",
    "        ``func``, giving the list of core dimensions on each output that were\n",
    "        not broadcast on the inputs. By default, we assume that ``func``\n",
    "        outputs exactly one array, with axes corresponding to each broadcast\n",
    "        dimension.\n",
    "\n",
    "        Core dimensions are assumed to appear as the last dimensions of each\n",
    "        output in the provided order.\n",
    "```\n",
    "\n",
    "For `interp` we expect one returned output with one new core dimension that we will call `\"lat_interp\"`.\n",
    "\n",
    "Specify this using `output_core_dims=[[\"lat_interp\"]]`"
   ]
  },
  {
   "cell_type": "code",
   "execution_count": null,
   "id": "4",
   "metadata": {
    "tags": []
   },
   "outputs": [],
   "source": [
    "newlat = np.linspace(15, 75, 100)\n",
    "\n",
    "xr.apply_ufunc(\n",
    "    np.interp,  # function to apply\n",
    "    newlat,  # 1st input to np.interp\n",
    "    air.lat,  # 2nd input to np.interp\n",
    "    air,  # 3rd input to np.interp\n",
    "    input_core_dims=[[\"lat_interp\"], [\"lat\"], [\"lat\"]],  # one entry per function input, 3 in total!\n",
    "    output_core_dims=[[\"lat_interp\"]],\n",
    ")"
   ]
  },
  {
   "cell_type": "markdown",
   "id": "5",
   "metadata": {
    "tags": []
   },
   "source": [
    "```{exercise}\n",
    ":label: newdim\n",
    "\n",
    "Apply the following function using `apply_ufunc`. It adds a new dimension to the input array, let's call it `newdim`. Specify the new dimension using `output_core_dims`. Do you need any `input_core_dims`?\n",
    "\n",
    "```python\n",
    "def add_new_dim(array):\n",
    "    return np.expand_dims(array, axis=-1)\n",
    "```\n",
    "````{solution} newdim\n",
    ":class: dropdown\n",
    "\n",
    "``` python\n",
    "def add_new_dim(array):\n",
    "    return np.expand_dims(array, axis=-1)\n",
    "\n",
    "\n",
    "xr.apply_ufunc(\n",
    "    add_new_dim,\n",
    "    air,\n",
    "    output_core_dims=[[\"newdim\"]],\n",
    ")\n",
    "```\n",
    "````"
   ]
  },
  {
   "cell_type": "markdown",
   "id": "6",
   "metadata": {
    "tags": [],
    "user_expressions": []
   },
   "source": [
    "(complex-output-change-size)=\n",
    "## Dimensions that change size\n",
    "\n",
    "Imagine that you want the output to have the same dimension name `\"lat\"` i.e. applying`np.interp` changes the size of the `\"lat\"` dimension.\n",
    "\n",
    "We get an a error if we specify `\"lat\"` in `output_core_dims`"
   ]
  },
  {
   "cell_type": "code",
   "execution_count": null,
   "id": "7",
   "metadata": {
    "tags": [
     "raises-exception"
    ]
   },
   "outputs": [],
   "source": [
    "newlat = np.linspace(15, 75, 100)\n",
    "\n",
    "xr.apply_ufunc(\n",
    "    np.interp,  # first the function\n",
    "    newlat,\n",
    "    air.lat,\n",
    "    air,\n",
    "    input_core_dims=[[\"lat\"], [\"lat\"], [\"lat\"]],\n",
    "    output_core_dims=[[\"lat\"]],\n",
    ")"
   ]
  },
  {
   "cell_type": "markdown",
   "id": "8",
   "metadata": {
    "tags": [],
    "user_expressions": []
   },
   "source": [
    "As the error message points out,\n",
    "```\n",
    "Only dimensions specified in ``exclude_dims`` with xarray.apply_ufunc are allowed to change size.\n",
    "```\n",
    "\n",
    "Looking at the docstring we need to specify `exclude_dims` as a \"set\":\n",
    "\n",
    "```\n",
    "exclude_dims : set, optional\n",
    "        Core dimensions on the inputs to exclude from alignment and\n",
    "        broadcasting entirely. Any input coordinates along these dimensions\n",
    "        will be dropped. Each excluded dimension must also appear in\n",
    "        ``input_core_dims`` for at least one argument. Only dimensions listed\n",
    "        here are allowed to change size between input and output objects.\n",
    "```\n"
   ]
  },
  {
   "cell_type": "code",
   "execution_count": null,
   "id": "9",
   "metadata": {
    "tags": []
   },
   "outputs": [],
   "source": [
    "newlat = np.linspace(15, 75, 100)\n",
    "\n",
    "xr.apply_ufunc(\n",
    "    np.interp,  # first the function\n",
    "    newlat,\n",
    "    air.lat,\n",
    "    air,\n",
    "    input_core_dims=[[\"lat\"], [\"lat\"], [\"lat\"]],\n",
    "    output_core_dims=[[\"lat\"]],\n",
    "    exclude_dims={\"lat\"},\n",
    ")"
   ]
  },
  {
   "cell_type": "markdown",
   "id": "10",
   "metadata": {
    "tags": []
   },
   "source": [
    "## Returning multiple variables\n",
    "\n",
    "Another common, but more complex, case is to handle multiple outputs returned by the function.\n",
    "\n",
    "As an example we will write a function that returns the minimum and maximum value along the last axis of the array.\n",
    "\n",
    "We will work with a 2D array, and apply the function `minmax` along the `\"lat\"` dimension:\n",
    "```python\n",
    "def minmax(array):\n",
    "    return array.min(axis=-1), array.max(axis=-1)\n",
    "```"
   ]
  },
  {
   "cell_type": "code",
   "execution_count": null,
   "id": "11",
   "metadata": {
    "tags": []
   },
   "outputs": [],
   "source": [
    "def minmax(array):\n",
    "    return array.min(axis=-1), array.max(axis=-1)\n",
    "\n",
    "\n",
    "air2d = xr.tutorial.load_dataset(\"air_temperature\").air.isel(time=0)\n",
    "air2d"
   ]
  },
  {
   "cell_type": "markdown",
   "id": "12",
   "metadata": {
    "tags": [],
    "user_expressions": []
   },
   "source": [
    "By default, Xarray assumes one array is returned by the applied function.\n",
    "\n",
    "Here we have two returned arrays, and the input core dimension `\"lat\"` is removed (or reduced over).\n",
    "\n",
    "So we provide `output_core_dims=[[], []]` i.e. an empty list of core dimensions for each of the two returned arrays."
   ]
  },
  {
   "cell_type": "code",
   "execution_count": null,
   "id": "13",
   "metadata": {
    "tags": []
   },
   "outputs": [],
   "source": [
    "minda, maxda = xr.apply_ufunc(\n",
    "    minmax,\n",
    "    air2d,\n",
    "    input_core_dims=[[\"lat\"]],\n",
    "    output_core_dims=[[], []],\n",
    ")\n",
    "minda"
   ]
  },
  {
   "cell_type": "markdown",
   "id": "14",
   "metadata": {
    "tags": []
   },
   "source": [
    "````{exercise}\n",
    ":label: generalize\n",
    "\n",
    "We presented the concept of \"core dimensions\" as the \"smallest unit of data the function could handle.\" Do you understand how the above use of `apply_ufunc` generalizes to an array with more than one dimension? \n",
    "\n",
    "Try applying the minmax function to a 3d air temperature dataset \n",
    "```python\n",
    "air3d = xr.tutorial.load_dataset(\"air_temperature\").air)\n",
    "``` \n",
    "Your goal is to have a minimum and maximum value of temperature across all latitudes for a given time and longitude.\n",
    "````\n",
    "\n",
    "````{solution} generalize\n",
    ":class: dropdown\n",
    "\n",
    "We want to use `minmax` to compute the minimum and maximum along the \"lat\" dimension always, regardless of how many dimensions are on the input. So we specify `input_core_dims=[[\"lat\"]]`. The output does not contain the \"lat\" dimension, but we expect two returned variables. So we pass an empty list `[]` for each returned array, so `output_core_dims=[[], []]` just as before.\n",
    "\n",
    "\n",
    "```python\n",
    "minda, maxda = xr.apply_ufunc(\n",
    "    minmax,\n",
    "    air3d,\n",
    "    input_core_dims=[[\"lat\"]],\n",
    "    output_core_dims=[[],[]],\n",
    ")\n",
    "```\n",
    "````"
   ]
  }
 ],
 "metadata": {
  "language_info": {
   "codemirror_mode": {
    "name": "ipython",
    "version": 3
   },
   "file_extension": ".py",
   "mimetype": "text/x-python",
   "name": "python",
   "nbconvert_exporter": "python",
   "pygments_lexer": "ipython3"
  }
 },
 "nbformat": 4,
 "nbformat_minor": 5
}
