{
 "cells": [
  {
   "cell_type": "markdown",
   "id": "0",
   "metadata": {
    "tags": []
   },
   "source": [
    "# Core dimensions\n",
    "\n",
    "[Previously](gentle-intro) we learned to use `apply_ufunc` on simple functions that acted element by element. \n",
    "\n",
    "Here we move on to slightly more complex functions like `np.mean` that can act along a subset of an input array's dimensions.\n",
    "\n",
    "Such operations involve the concept of \"core dimensions\". \n",
    "\n",
    "Our learning goals are:\n",
    "- Learn how to identify \"core dimensions\" for the function you're applying.\n",
    "- Learn that \"core dimensions\" are automatically moved or transposed to the end of the array.\n",
    "\n",
    "\n",
    "## Introduction\n",
    "\n",
    "For using more complex operations that consider some array values collectively,\n",
    "it’s important to understand the idea of **core dimensions**. \n",
    "Usually, they correspond to the fundamental dimensions over\n",
    "which an operation is defined, e.g., the summed axis in `np.sum`. One way to think about core dimensions \n",
    "is to consider the smallest dimensionality of data that the function acts on.\n",
    "\n",
    "```{important}\n",
    "\n",
    "A good clue that core dimensions are needed is the presence of an `axis` argument on the\n",
    "corresponding NumPy function.\n",
    "\n",
    "```\n"
   ]
  },
  {
   "cell_type": "markdown",
   "id": "1",
   "metadata": {},
   "source": [
    "## Setup"
   ]
  },
  {
   "cell_type": "code",
   "execution_count": null,
   "id": "2",
   "metadata": {},
   "outputs": [],
   "source": [
    "%xmode minimal\n",
    "\n",
    "import numpy as np\n",
    "import xarray as xr\n",
    "\n",
    "# limit the amount of information printed to screen\n",
    "xr.set_options(display_expand_data=False)\n",
    "np.set_printoptions(threshold=10, edgeitems=2)"
   ]
  },
  {
   "cell_type": "markdown",
   "id": "3",
   "metadata": {},
   "source": [
    "Let's load a dataset"
   ]
  },
  {
   "cell_type": "code",
   "execution_count": null,
   "id": "4",
   "metadata": {},
   "outputs": [],
   "source": [
    "ds = xr.tutorial.load_dataset(\"air_temperature\")\n",
    "ds"
   ]
  },
  {
   "cell_type": "markdown",
   "id": "5",
   "metadata": {},
   "source": [
    "## Reducing with `np.mean`\n",
    "\n",
    "Let's write a function that computes the mean along `time` for a provided xarray object. \n",
    "\n",
    "This function requires one core dimension `time`. For `ds.air` note that `time` is the 0th axis."
   ]
  },
  {
   "cell_type": "code",
   "execution_count": null,
   "id": "6",
   "metadata": {
    "tags": []
   },
   "outputs": [],
   "source": [
    "ds.air.dims"
   ]
  },
  {
   "cell_type": "markdown",
   "id": "7",
   "metadata": {
    "tags": []
   },
   "source": [
    "`get_axis_num` is a useful method."
   ]
  },
  {
   "cell_type": "code",
   "execution_count": null,
   "id": "8",
   "metadata": {
    "tags": []
   },
   "outputs": [],
   "source": [
    "ds.air.get_axis_num(\"time\")"
   ]
  },
  {
   "cell_type": "code",
   "execution_count": null,
   "id": "9",
   "metadata": {},
   "outputs": [],
   "source": [
    "np.mean(ds.air, axis=ds.air.get_axis_num(\"time\"))"
   ]
  },
  {
   "cell_type": "code",
   "execution_count": null,
   "id": "10",
   "metadata": {},
   "outputs": [],
   "source": [
    "np.mean(ds.air.data, axis=0)"
   ]
  },
  {
   "cell_type": "markdown",
   "id": "11",
   "metadata": {},
   "source": [
    "Let's try to use `apply_ufunc` to replicate `np.mean(ds.air.data, axis=0)`"
   ]
  },
  {
   "cell_type": "code",
   "execution_count": null,
   "id": "12",
   "metadata": {
    "tags": [
     "raises-exception"
    ]
   },
   "outputs": [],
   "source": [
    "xr.apply_ufunc(\n",
    "    # function to apply\n",
    "    np.mean,\n",
    "    # object with data to pass to function\n",
    "    ds,\n",
    "    # keyword arguments to pass to np.mean\n",
    "    kwargs={\"axis\": 0},\n",
    ")"
   ]
  },
  {
   "cell_type": "markdown",
   "id": "13",
   "metadata": {
    "tags": []
   },
   "source": [
    "The error here\n",
    "```\n",
    "applied function returned data with unexpected number of dimensions. \n",
    "Received 2 dimension(s) but expected 3 dimensions with names: ('time', 'lat', 'lon')\n",
    "```\n",
    "\n",
    "means that while `np.mean` did indeed reduce one dimension, we did not tell `apply_ufunc` that this would happen. That is, we need to specify the core dimensions on the input.\n",
    "\n",
    "Do that by passing a list of dimension names for each input object. For this function we have one input : `ds` and with a single core dimension `\"time\"` so we have `input_core_dims=[[\"time\"]]`"
   ]
  },
  {
   "cell_type": "code",
   "execution_count": null,
   "id": "14",
   "metadata": {
    "tags": [
     "raises-exception"
    ]
   },
   "outputs": [],
   "source": [
    "xr.apply_ufunc(\n",
    "    np.mean,\n",
    "    ds,\n",
    "    # specify core dimensions as a list of lists\n",
    "    # here 'time' is the core dimension on `ds`\n",
    "    input_core_dims=[\n",
    "        [\"time\"],  # core dimension for ds\n",
    "    ],\n",
    "    kwargs={\"axis\": 0},\n",
    ")"
   ]
  },
  {
   "cell_type": "markdown",
   "id": "15",
   "metadata": {
    "tags": []
   },
   "source": [
    "This next error is a little confusing.\n",
    "\n",
    "```\n",
    "size of dimension 'lat' on inputs was unexpectedly changed by applied function from 25 to 53. \n",
    "Only dimensions specified in ``exclude_dims`` with xarray.apply_ufunc are allowed to change size.\n",
    "```\n",
    "\n",
    "\n",
    "A good trick here is to pass a little wrapper function to `apply_ufunc` instead and inspect the shapes of data received by the wrapper.\n"
   ]
  },
  {
   "cell_type": "code",
   "execution_count": null,
   "id": "16",
   "metadata": {
    "tags": [
     "raises-exception"
    ]
   },
   "outputs": [],
   "source": [
    "def wrapper(array, **kwargs):\n",
    "    print(f\"received {type(array)} shape: {array.shape}, kwargs: {kwargs}\")\n",
    "    result = np.mean(array, **kwargs)\n",
    "    print(f\"result.shape: {result.shape}\")\n",
    "    return result\n",
    "\n",
    "\n",
    "xr.apply_ufunc(\n",
    "    wrapper,\n",
    "    ds,\n",
    "    # specify core dimensions as a list of lists\n",
    "    # here 'time' is the core dimension on `ds`\n",
    "    input_core_dims=[[\"time\"]],\n",
    "    kwargs={\"axis\": 0},\n",
    ")"
   ]
  },
  {
   "cell_type": "markdown",
   "id": "17",
   "metadata": {},
   "source": [
    "Now we see the issue:\n",
    "\n",
    "    received <class 'numpy.ndarray'> shape: (25, 53, 2920), kwargs: {'axis': 0}\n",
    "    result.shape: (53, 2920)\n",
    "    \n",
    "The `time` dimension is of size `2920` and is now the last axis of the array but was initially the first axis"
   ]
  },
  {
   "cell_type": "code",
   "execution_count": null,
   "id": "18",
   "metadata": {},
   "outputs": [],
   "source": [
    "ds.air.get_axis_num(\"time\")"
   ]
  },
  {
   "cell_type": "markdown",
   "id": "19",
   "metadata": {
    "tags": []
   },
   "source": [
    "```{important}\n",
    "This illustrates an important concept. Arrays are transposed so that core dimensions are at the end.\n",
    "```\n",
    "\n",
    "With `apply_ufunc`, core dimensions are recognized by name, and then moved to\n",
    "the last dimension of any input arguments before applying the given function.\n",
    "This means that for functions that accept an `axis` argument, you usually need\n",
    "to set `axis=-1`\n",
    "\n",
    "Such behaviour means that our functions (like `wrapper` or `np.mean`) do not need to know the exact order of dimensions. They can rely on the core dimensions being at the end allowing us to write very general code! \n",
    "\n",
    "We can fix our `apply_ufunc` call by specifying `axis=-1` instead."
   ]
  },
  {
   "cell_type": "code",
   "execution_count": null,
   "id": "20",
   "metadata": {},
   "outputs": [],
   "source": [
    "def wrapper(array, **kwargs):\n",
    "    print(f\"received {type(array)} shape: {array.shape}, kwargs: {kwargs}\")\n",
    "    result = np.mean(array, **kwargs)\n",
    "    print(f\"result.shape: {result.shape}\")\n",
    "    return result\n",
    "\n",
    "\n",
    "xr.apply_ufunc(\n",
    "    wrapper,\n",
    "    ds,\n",
    "    input_core_dims=[[\"time\"]],\n",
    "    kwargs={\"axis\": -1},\n",
    ")"
   ]
  },
  {
   "cell_type": "markdown",
   "id": "21",
   "metadata": {
    "tags": []
   },
   "source": [
    "```{exercise}\n",
    ":label: trapezoid\n",
    "\n",
    "Use `apply_ufunc` to apply `scipy.integrate.trapezoid` along the `time` axis.\n",
    "```\n",
    "\n",
    "````{solution} trapezoid\n",
    ":class: dropdown\n",
    "\n",
    "```python\n",
    "import scipy as sp\n",
    "import scipy.integrate\n",
    "\n",
    "xr.apply_ufunc(scipy.integrate.trapezoid, ds, input_core_dims=[[\"time\"]], kwargs={\"axis\": -1})\n",
    "```\n",
    "````"
   ]
  }
 ],
 "metadata": {
  "language_info": {
   "codemirror_mode": {
    "name": "ipython",
    "version": 3
   },
   "file_extension": ".py",
   "mimetype": "text/x-python",
   "name": "python",
   "nbconvert_exporter": "python",
   "pygments_lexer": "ipython3"
  }
 },
 "nbformat": 4,
 "nbformat_minor": 5
}
