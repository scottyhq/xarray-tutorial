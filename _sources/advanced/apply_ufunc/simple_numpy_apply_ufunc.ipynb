{
 "cells": [
  {
   "cell_type": "markdown",
   "id": "0",
   "metadata": {
    "tags": []
   },
   "source": [
    "(gentle-intro)=\n",
    "# A gentle introduction\n",
    "\n",
    "Many, but not all, useful array methods are wrapped by Xarray and accessible\n",
    "as methods on Xarray objects. For example `DataArray.mean` calls `numpy.nanmean`.\n",
    "A very common use-case is to apply functions that expect and return NumPy \n",
    "(or other array types) on Xarray objects.  For example, this would include all of SciPy's API. \n",
    "Applying many of these functions to Xarray object involves a series of repeated steps.\n",
    "`apply_ufunc` provides a convenient wrapper function that generalizes the steps\n",
    "involved in applying such functions to Xarray objects.\n",
    "\n",
    "```{tip}\n",
    "Xarray uses `apply_ufunc` internally to implement much of its API, meaning that it is quite powerful!\n",
    "```\n",
    "\n",
    "Our goals are to learn that `apply_ufunc` automates aspects of applying computation functions that are designed for pure arrays (like numpy arrays) on xarray objects including\n",
    "- Propagating dimension names, coordinate variables, and (optionally) attributes.\n",
    "- Handle Dataset input by looping over data variables.\n",
    "- Allow passing arbitrary positional and keyword arguments\n",
    "\n",
    "\n",
    "```{tip}\n",
    "We'll reduce the length of error messages using `%xmode minimal` See the [ipython documentation](https://ipython.readthedocs.io/en/stable/interactive/magics.html#magic-xmode) for details.\n",
    "```\n",
    "\n",
    "\n",
    "## Setup"
   ]
  },
  {
   "cell_type": "code",
   "execution_count": null,
   "id": "1",
   "metadata": {},
   "outputs": [],
   "source": [
    "%xmode minimal\n",
    "\n",
    "import numpy as np\n",
    "import xarray as xr\n",
    "\n",
    "# limit the amount of information printed to screen\n",
    "xr.set_options(display_expand_data=False)\n",
    "np.set_printoptions(threshold=10, edgeitems=2)"
   ]
  },
  {
   "cell_type": "markdown",
   "id": "2",
   "metadata": {},
   "source": [
    "Let's load a dataset"
   ]
  },
  {
   "cell_type": "code",
   "execution_count": null,
   "id": "3",
   "metadata": {},
   "outputs": [],
   "source": [
    "ds = xr.tutorial.load_dataset(\"air_temperature\")\n",
    "ds"
   ]
  },
  {
   "cell_type": "markdown",
   "id": "4",
   "metadata": {
    "tags": []
   },
   "source": [
    "## A simple example: pure numpy\n",
    "\n",
    "Simple functions that act independently on each value should work without any\n",
    "additional arguments. \n",
    "\n",
    "Consider the following `squared_error` function"
   ]
  },
  {
   "cell_type": "code",
   "execution_count": null,
   "id": "5",
   "metadata": {
    "tags": [
     "raises-exception"
    ]
   },
   "outputs": [],
   "source": [
    "def squared_error(x, y):\n",
    "    return (x - y) ** 2"
   ]
  },
  {
   "cell_type": "markdown",
   "id": "6",
   "metadata": {},
   "source": [
    "````{tip}\n",
    "\n",
    "This function uses only arithmetic operations. For such simple functions, you can pass Xarray objects directly and receive Xarray objects back.\n",
    "Try\n",
    "```python\n",
    "squared_error(ds.air, 1)\n",
    "```\n",
    "\n",
    "We use it here as a very simple example\n",
    "````"
   ]
  },
  {
   "cell_type": "markdown",
   "id": "7",
   "metadata": {},
   "source": [
    "We can apply `squared_error` manually by extracting the underlying numpy array"
   ]
  },
  {
   "cell_type": "code",
   "execution_count": null,
   "id": "8",
   "metadata": {},
   "outputs": [],
   "source": [
    "numpy_result = squared_error(ds.air.data, 1)\n",
    "numpy_result"
   ]
  },
  {
   "cell_type": "markdown",
   "id": "9",
   "metadata": {},
   "source": [
    "To convert this result to a DataArray, we could do it manually"
   ]
  },
  {
   "cell_type": "code",
   "execution_count": null,
   "id": "10",
   "metadata": {},
   "outputs": [],
   "source": [
    "xr.DataArray(\n",
    "    data=numpy_result,\n",
    "    # propagate all the Xarray metadata manually\n",
    "    dims=ds.air.dims,\n",
    "    coords=ds.air.coords,\n",
    "    attrs=ds.air.attrs,\n",
    "    name=ds.air.name,\n",
    ")"
   ]
  },
  {
   "cell_type": "markdown",
   "id": "11",
   "metadata": {},
   "source": [
    "A shorter version uses [DataArray.copy](https://docs.xarray.dev/en/stable/generated/xarray.DataArray.copy.html)"
   ]
  },
  {
   "cell_type": "code",
   "execution_count": null,
   "id": "12",
   "metadata": {},
   "outputs": [],
   "source": [
    "ds.air.copy(data=numpy_result)"
   ]
  },
  {
   "cell_type": "markdown",
   "id": "13",
   "metadata": {
    "tags": []
   },
   "source": [
    "```{caution}\n",
    "Using `DataArray.copy` works for such simple cases but doesn't generalize that well. \n",
    "\n",
    "For example, consider a function that removed one dimension and added a new dimension.\n",
    "```"
   ]
  },
  {
   "cell_type": "markdown",
   "id": "14",
   "metadata": {
    "tags": []
   },
   "source": [
    "## apply_ufunc\n",
    "\n",
    "`apply_ufunc` can handle more complicated functions. Here's how to use it with `squared_error`"
   ]
  },
  {
   "cell_type": "code",
   "execution_count": null,
   "id": "15",
   "metadata": {},
   "outputs": [],
   "source": [
    "xr.apply_ufunc(squared_error, ds.air, 1)"
   ]
  },
  {
   "cell_type": "markdown",
   "id": "16",
   "metadata": {
    "tags": []
   },
   "source": [
    "## How does apply_ufunc work?\n",
    "\n",
    "\n",
    "This line\n",
    "```python\n",
    "xr.apply_ufunc(squared_error, ds.air, 1)\n",
    "```\n",
    "is equivalent to `squared_error(ds.air.data, 1)` with automatic propagation of xarray metadata like dimension names, coordinate values etc.\n",
    "\n",
    "\n",
    "To illustrate how `apply_ufunc` works, let us write a small wrapper function. This will let us examine what data is received and returned from the applied function. \n",
    "\n",
    "```{tip}\n",
    "This trick is very useful for debugging\n",
    "```"
   ]
  },
  {
   "cell_type": "code",
   "execution_count": null,
   "id": "17",
   "metadata": {},
   "outputs": [],
   "source": [
    "def wrapper(x, y):\n",
    "    print(f\"received x of type {type(x)}, shape {x.shape}\")\n",
    "    print(f\"received y of type {type(y)}\")\n",
    "    return squared_error(x, y)\n",
    "\n",
    "\n",
    "xr.apply_ufunc(wrapper, ds.air, 1)"
   ]
  },
  {
   "cell_type": "markdown",
   "id": "18",
   "metadata": {
    "tags": []
   },
   "source": [
    "We see that `wrapper` receives the underlying numpy array (`ds.air.data`), and the integer `1`. \n",
    "\n",
    "Essentially, `apply_ufunc` does the following:\n",
    "1. extracts the underlying array data (`.data`), \n",
    "2. passes it to the user function, \n",
    "3. receives the returned values, and \n",
    "4. then wraps that back up as a DataArray\n",
    "\n",
    "```{tip}\n",
    "`apply_ufunc` always takes in at least one DataArray or Dataset and returns one DataArray or Dataset\n",
    "```"
   ]
  },
  {
   "cell_type": "markdown",
   "id": "19",
   "metadata": {},
   "source": [
    "## Handling attributes\n",
    "\n",
    "By default, attributes are omitted since they may now be inaccurate"
   ]
  },
  {
   "cell_type": "code",
   "execution_count": null,
   "id": "20",
   "metadata": {
    "tags": []
   },
   "outputs": [],
   "source": [
    "result = xr.apply_ufunc(wrapper, ds.air, 1)\n",
    "result.attrs"
   ]
  },
  {
   "cell_type": "markdown",
   "id": "21",
   "metadata": {},
   "source": [
    "To propagate attributes, pass `keep_attrs=True`"
   ]
  },
  {
   "cell_type": "code",
   "execution_count": null,
   "id": "22",
   "metadata": {
    "tags": []
   },
   "outputs": [],
   "source": [
    "result = xr.apply_ufunc(wrapper, ds.air, 1, keep_attrs=True)\n",
    "result.attrs"
   ]
  },
  {
   "cell_type": "markdown",
   "id": "23",
   "metadata": {
    "tags": []
   },
   "source": [
    "## Handling datasets\n",
    "\n",
    "`apply_ufunc` easily handles both DataArrays and Datasets. \n",
    "\n",
    "When passed a Dataset, `apply_ufunc` will loop over the data variables and sequentially pass those to `squared_error`.\n",
    "\n",
    "So `squared_error` always receives a _single_ numpy array.\n",
    "\n",
    "To illustrate that lets create a new `Dataset` with two arrays. We'll create a new array `air2` that is 2D `time, lat`."
   ]
  },
  {
   "cell_type": "code",
   "execution_count": null,
   "id": "24",
   "metadata": {
    "tags": []
   },
   "outputs": [],
   "source": [
    "ds2 = ds.copy()\n",
    "ds2[\"air2\"] = ds2.air.isel(lon=0) ** 2"
   ]
  },
  {
   "cell_type": "markdown",
   "id": "25",
   "metadata": {},
   "source": [
    "We see that `wrapper` is called twice"
   ]
  },
  {
   "cell_type": "code",
   "execution_count": null,
   "id": "26",
   "metadata": {},
   "outputs": [],
   "source": [
    "xr.apply_ufunc(wrapper, ds2, 1)"
   ]
  },
  {
   "cell_type": "code",
   "execution_count": null,
   "id": "27",
   "metadata": {},
   "outputs": [],
   "source": [
    "xr.apply_ufunc(squared_error, ds2, 1)"
   ]
  },
  {
   "cell_type": "markdown",
   "id": "28",
   "metadata": {
    "tags": []
   },
   "source": [
    "## Passing positional and keyword arguments\n",
    "\n",
    "```{seealso}\n",
    "See the Python tutorial on [defining functions](https://docs.python.org/3/tutorial/controlflow.html#defining-functions) for more on positional and keyword arguments.\n",
    "```\n",
    "\n",
    "`squared_error` takes two arguments named `x` and `y`.\n",
    "\n",
    "In `xr.apply_ufunc(squared_error, ds.air, 1)`, the value of `1` for `y` was passed positionally. \n",
    "\n",
    "to use the keyword argument form, pass it using the `kwargs` keyword argument to `apply_ufunc`\n",
    "> kwargs (dict, optional) – Optional keyword arguments passed directly on to call func."
   ]
  },
  {
   "cell_type": "code",
   "execution_count": null,
   "id": "29",
   "metadata": {
    "tags": []
   },
   "outputs": [],
   "source": [
    "xr.apply_ufunc(squared_error, ds.air, kwargs={\"y\": 1})"
   ]
  }
 ],
 "metadata": {
  "language_info": {
   "codemirror_mode": {
    "name": "ipython",
    "version": 3
   },
   "file_extension": ".py",
   "mimetype": "text/x-python",
   "name": "python",
   "nbconvert_exporter": "python",
   "pygments_lexer": "ipython3"
  }
 },
 "nbformat": 4,
 "nbformat_minor": 5
}
