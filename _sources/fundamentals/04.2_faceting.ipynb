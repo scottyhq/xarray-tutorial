{
 "cells": [
  {
   "cell_type": "markdown",
   "id": "0",
   "metadata": {},
   "source": [
    "# Faceting\n",
    "\n",
    "Faceting is the art of presenting \"small multiples\" of the data. It is an\n",
    "effective way of visualizing variations of 3D data where 2D slices are\n",
    "visualized in a panel (subplot) and the third dimensions is varied between\n",
    "panels (subplots).\n",
    "\n",
    "Here is where xarray really augments matplotlib's functionality. We will use\n",
    "monthly means to illustrate\n"
   ]
  },
  {
   "cell_type": "code",
   "execution_count": null,
   "id": "1",
   "metadata": {},
   "outputs": [],
   "source": [
    "import matplotlib as mpl\n",
    "import matplotlib.pyplot as plt\n",
    "import numpy as np\n",
    "import xarray as xr\n",
    "\n",
    "%config InlineBackend.figure_format='retina'"
   ]
  },
  {
   "cell_type": "code",
   "execution_count": null,
   "id": "2",
   "metadata": {},
   "outputs": [],
   "source": [
    "ds = xr.tutorial.open_dataset(\"air_temperature_gradient\")\n",
    "monthly_means = ds.groupby(\"time.month\").mean()\n",
    "# xarray's groupby reductions drop attributes. Let's assign them back so we get nice labels.\n",
    "monthly_means.Tair.attrs = ds.Tair.attrs"
   ]
  },
  {
   "cell_type": "markdown",
   "id": "3",
   "metadata": {},
   "source": [
    "Note that the dimensions are now `lat, lon, month`.\n",
    "\n",
    "## Basic faceting\n",
    "\n",
    "We want to visualize how the monthly mean air temperature varies with month of\n",
    "the year.\n",
    "\n",
    "The simplest way to facet is to specify the `row` or `col` kwargs which are\n",
    "expected to be a dimension name. Here we use `month` so that each panel or\n",
    "\"facet\" of the plot presents the mean temperature field in a given month. Since\n",
    "a 12 column plot would be too small to interpret, we can \"wrap\" the facets into\n",
    "multiple rows using `col_wrap`\n"
   ]
  },
  {
   "cell_type": "code",
   "execution_count": null,
   "id": "4",
   "metadata": {},
   "outputs": [],
   "source": [
    "fg = monthly_means.Tair.plot(\n",
    "    col=\"month\",\n",
    "    col_wrap=4,  # each row has a maximum of 4 columns\n",
    ")"
   ]
  },
  {
   "cell_type": "markdown",
   "id": "5",
   "metadata": {},
   "source": [
    "## Customizing\n",
    "\n",
    "All the usual customizations are possible\n"
   ]
  },
  {
   "cell_type": "code",
   "execution_count": null,
   "id": "6",
   "metadata": {},
   "outputs": [],
   "source": [
    "fg = monthly_means.Tair.plot(\n",
    "    col=\"month\",\n",
    "    col_wrap=4,\n",
    "    # The remaining kwargs customize the plot just as for not-faceted plots\n",
    "    robust=True,\n",
    "    cmap=mpl.cm.RdYlBu_r,\n",
    "    cbar_kwargs={\n",
    "        \"orientation\": \"horizontal\",\n",
    "        \"shrink\": 0.8,\n",
    "        \"aspect\": 40,\n",
    "        \"pad\": 0.1,\n",
    "    },\n",
    ")"
   ]
  },
  {
   "cell_type": "markdown",
   "id": "7",
   "metadata": {},
   "source": [
    "The returned FacetGrid object `fg` has many useful properties and methods e.g.\n",
    "\n",
    "1. `fg.fig` provides a handle to the figure\n",
    "2. `fg.axes` is a numpy object array with handles to each individual axes\n",
    "3. `fg.set_xlabels` and `fg.set_ylabels` can be used to change axes labels.\n",
    "\n",
    "See the [documentation](https://docs.xarray.dev/en/stable/api.html#faceting) for a full list."
   ]
  },
  {
   "cell_type": "markdown",
   "id": "8",
   "metadata": {},
   "source": [
    "### Exercise\n",
    "\n",
    "Use these methods to set a title for the figure using `suptitle`, as well as\n",
    "change the x- and y-labels."
   ]
  },
  {
   "cell_type": "code",
   "execution_count": null,
   "id": "9",
   "metadata": {},
   "outputs": [],
   "source": [
    "fg"
   ]
  },
  {
   "cell_type": "markdown",
   "id": "10",
   "metadata": {},
   "source": [
    "## Modifying all facets\n",
    "\n",
    "The FacetGrid object has some more advanced methods that let you customize the\n",
    "plot further.\n",
    "\n",
    "Here we illustrate the use of `map` and `map_dataarray` that let you map custom\n",
    "plotting functions to an existing `FacetGrid`. The functions passed to `map` and\n",
    "`map_dataarray` must have a particular signature. See the docstring for more\n",
    "details.\n",
    "\n",
    "Alternatively one can loop over `fg.axes` and modify each individual subplot as\n",
    "needed\n"
   ]
  },
  {
   "cell_type": "code",
   "execution_count": null,
   "id": "11",
   "metadata": {},
   "outputs": [],
   "source": [
    "fg = monthly_means.Tair.plot(col=\"month\", col_wrap=4)\n",
    "\n",
    "# Use this to plot contours on each panel\n",
    "# Note that this plotting call uses the original DataArray gradients\n",
    "fg.map_dataarray(xr.plot.contour, x=\"lon\", y=\"lat\", colors=\"k\", levels=13, add_colorbar=False)\n",
    "\n",
    "# Add a point (or anything else!)\n",
    "fg.map(lambda: plt.plot(250, 40, markersize=20, marker=\".\", color=\"w\"))"
   ]
  },
  {
   "cell_type": "markdown",
   "id": "12",
   "metadata": {},
   "source": [
    "## Faceting multiple DataArrays\n",
    "\n",
    "Faceting can be used to plot multiple DataArrays in a Dataset. The trick is to\n",
    "use `to_array()` to convert a Dataset to a DataArray and then facet that.\n",
    "\n",
    "This trick only works when it is sensible to use the same colormap and color\n",
    "scale for all DataArrays like with `dTdx` and `dTdy`\n"
   ]
  },
  {
   "cell_type": "code",
   "execution_count": null,
   "id": "13",
   "metadata": {},
   "outputs": [],
   "source": [
    "gradients = monthly_means[[\"dTdx\", \"dTdy\"]].to_array(\"gradient\")\n",
    "gradients"
   ]
  },
  {
   "cell_type": "code",
   "execution_count": null,
   "id": "14",
   "metadata": {},
   "outputs": [],
   "source": [
    "fg = gradients.isel(month=slice(None, None, 3)).plot.contourf(\n",
    "    levels=13,\n",
    "    col=\"month\",\n",
    "    row=\"gradient\",\n",
    "    robust=True,\n",
    "    cmap=mpl.cm.coolwarm,\n",
    "    cbar_kwargs={\n",
    "        \"orientation\": \"horizontal\",\n",
    "        \"shrink\": 0.8,\n",
    "        \"aspect\": 40,\n",
    "        \"label\": \"Gradient [°C/m]\",\n",
    "    },\n",
    ")"
   ]
  }
 ],
 "metadata": {
  "language_info": {
   "codemirror_mode": {
    "name": "ipython",
    "version": 3
   },
   "file_extension": ".py",
   "mimetype": "text/x-python",
   "name": "python",
   "nbconvert_exporter": "python",
   "pygments_lexer": "ipython3"
  }
 },
 "nbformat": 4,
 "nbformat_minor": 5
}
