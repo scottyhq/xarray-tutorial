{
 "cells": [
  {
   "cell_type": "markdown",
   "metadata": {},
   "source": [
    "<img src=\"http://xarray.pydata.org/en/stable/_static/dataset-diagram-logo.png\" align=\"right\" width=\"30%\">\n",
    "\n",
    "# Working with Multiple Datasets\n",
    "\n",
    "Learning goals:\n",
    "\n",
    "- Perform operations across multiple datasets"
   ]
  },
  {
   "cell_type": "code",
   "execution_count": null,
   "metadata": {},
   "outputs": [],
   "source": [
    "import numpy as np\n",
    "import xarray as xr\n",
    "\n",
    "np.random.seed(0)"
   ]
  },
  {
   "cell_type": "markdown",
   "metadata": {},
   "source": [
    "## Broadcasting and automatic alignment\n",
    "\n",
    "Broadcasting refers to the alignment of arrays with different numbers of\n",
    "dimensions. Numpy's broadcasting rules, based on array shape, can sometimes be\n",
    "difficult to understand and remember. Xarray does broadcasting by dimension name,\n",
    "rather than array shape. This is a huge convenience."
   ]
  },
  {
   "cell_type": "code",
   "execution_count": null,
   "metadata": {},
   "outputs": [],
   "source": [
    "arr1 = xr.DataArray(\n",
    "    np.random.randn(3, 4),\n",
    "    dims=(\"x\", \"y\"),\n",
    "    coords={\"x\": [\"a\", \"b\", \"c\"], \"y\": np.arange(4)},\n",
    ")\n",
    "arr2 = xr.DataArray(\n",
    "    np.random.randn(2, 7),\n",
    "    dims=(\"x\", \"y\"),\n",
    "    coords={\"x\": [\"b\", \"d\"], \"y\": [-2, -1, 0, 1, 2, 3, 4]},\n",
    ")\n",
    "\n",
    "arr1 + arr2"
   ]
  },
  {
   "cell_type": "markdown",
   "metadata": {},
   "source": [
    "This will automatically select only common labels from both arrays (a inner\n",
    "join) and then perform the operation.\n"
   ]
  },
  {
   "cell_type": "markdown",
   "metadata": {},
   "source": [
    "<div class=\"alert alert-warning\">\n",
    "    <strong>Warning:</strong> If the arrays being broadcasted share a dimension name, but have different coordinates,\n",
    "    they will first be aligned using Xarray's default align settings (including filling missing values with NaNs).\n",
    "    If that's not what you want, it's best to call <code>align</code> explicitly before broadcasting.\n",
    "</div>\n"
   ]
  },
  {
   "cell_type": "markdown",
   "metadata": {},
   "source": [
    "### A More Detailed Look\n",
    "\n",
    "What Xarray is doing automatically to perform the addition operation is a combination of <code>broadcast</code> and <code>align</code>.\n"
   ]
  },
  {
   "cell_type": "markdown",
   "metadata": {},
   "source": [
    "First, both arrays were automatically broadcasted against each other:"
   ]
  },
  {
   "cell_type": "code",
   "execution_count": null,
   "metadata": {},
   "outputs": [],
   "source": [
    "arr1_, arr2_ = xr.broadcast(arr1, arr2)"
   ]
  },
  {
   "cell_type": "code",
   "execution_count": null,
   "metadata": {},
   "outputs": [],
   "source": [
    "arr1_"
   ]
  },
  {
   "cell_type": "code",
   "execution_count": null,
   "metadata": {},
   "outputs": [],
   "source": [
    "arr2_"
   ]
  },
  {
   "cell_type": "markdown",
   "metadata": {},
   "source": [
    "and then the operation (a sum) was executed.\n",
    "\n",
    "We can also call `align` speciically with different options.\n"
   ]
  },
  {
   "cell_type": "code",
   "execution_count": null,
   "metadata": {},
   "outputs": [],
   "source": [
    "arr1_al, arr2_al = xr.align(arr1, arr2, join=\"inner\")\n",
    "arr2_al"
   ]
  }
 ],
 "metadata": {
  "kernelspec": {
   "display_name": "Python 3 (ipykernel)",
   "language": "python",
   "name": "python3"
  },
  "language_info": {
   "codemirror_mode": {
    "name": "ipython",
    "version": 3
   },
   "file_extension": ".py",
   "mimetype": "text/x-python",
   "name": "python",
   "nbconvert_exporter": "python",
   "pygments_lexer": "ipython3",
   "version": "3.9.12"
  }
 },
 "nbformat": 4,
 "nbformat_minor": 4
}
