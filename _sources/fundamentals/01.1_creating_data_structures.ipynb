{
 "cells": [
  {
   "cell_type": "markdown",
   "id": "0",
   "metadata": {},
   "source": [
    "# Creating Data Structures"
   ]
  },
  {
   "cell_type": "code",
   "execution_count": null,
   "id": "1",
   "metadata": {},
   "outputs": [],
   "source": [
    "import numpy as np\n",
    "import pandas as pd\n",
    "import xarray as xr\n",
    "\n",
    "xr.set_options(display_expand_data=False)\n",
    "\n",
    "rng = np.random.default_rng(seed=0)  # we'll use this later"
   ]
  },
  {
   "cell_type": "markdown",
   "id": "2",
   "metadata": {},
   "source": [
    "In the last lecture, we looked at the following example Dataset. In most cases Xarray Datasets are created by reading a file. We'll address this in the next lecture. Here we'll learn how to create Xarray objects from scratch"
   ]
  },
  {
   "cell_type": "code",
   "execution_count": null,
   "id": "3",
   "metadata": {},
   "outputs": [],
   "source": [
    "ds = xr.tutorial.load_dataset(\"air_temperature\")\n",
    "ds"
   ]
  },
  {
   "cell_type": "markdown",
   "id": "4",
   "metadata": {},
   "source": [
    "## DataArray\n",
    "\n",
    "The `DataArray` class is used to attach a name, dimension names, labels, and\n",
    "attributes to an array.\n",
    "\n",
    "Our goal will be to recreate the `ds.air` DataArray starting with the underlying numpy data"
   ]
  },
  {
   "cell_type": "code",
   "execution_count": null,
   "id": "5",
   "metadata": {},
   "outputs": [],
   "source": [
    "ds.air"
   ]
  },
  {
   "cell_type": "code",
   "execution_count": null,
   "id": "6",
   "metadata": {},
   "outputs": [],
   "source": [
    "array = ds.air.data"
   ]
  },
  {
   "cell_type": "markdown",
   "id": "7",
   "metadata": {},
   "source": [
    "We do this using the [DataArray](https://docs.xarray.dev/en/stable/generated/xarray.DataArray.html) _constructor_."
   ]
  },
  {
   "cell_type": "code",
   "execution_count": null,
   "id": "8",
   "metadata": {},
   "outputs": [],
   "source": [
    "xr.DataArray(array)"
   ]
  },
  {
   "cell_type": "markdown",
   "id": "9",
   "metadata": {},
   "source": [
    "This works. Notice that the default dimension names are not so useful: `dim_0`, `dim_1`, `dim_2`\n",
    "\n",
    "\n",
    "### Dimension Names\n",
    "\n",
    "We can change this by specifying dimension names in the appropriate order using the `dims` kwarg "
   ]
  },
  {
   "cell_type": "code",
   "execution_count": null,
   "id": "10",
   "metadata": {},
   "outputs": [],
   "source": [
    "xr.DataArray(array, dims=(\"time\", \"lat\", \"lon\"))"
   ]
  },
  {
   "cell_type": "markdown",
   "id": "11",
   "metadata": {},
   "source": [
    "Much better! But notice we have no entries under \"Coordinates\".\n",
    "\n",
    "### Coordinates\n",
    "\n",
    "While associating names with dimensions (or axes) of an array is quite useful, attaching coordinate labels to DataArrays makes a lot of analysis quite convenient.\n",
    "\n",
    "First we'll simply add values for `lon` using the `coords` kwarg. For this datasets, longitudes are regularly spaced at 2.5° intervals between 200°E and 330°E.\n",
    "\n",
    "`coords` takes a dictionary that maps the name of a dimension to one of\n",
    "- another `DataArray` object\n",
    "- a tuple of the form `(dims, data, attrs)` where `attrs` is optional. This is\n",
    "  roughly equivalent to creating a new `DataArray` object with\n",
    "  `DataArray(dims=dims, data=data, attrs=attrs)`\n",
    "- a `numpy` array (or anything that can be coerced to one using `numpy.array`).\n",
    "\n",
    "We'll start with the last one"
   ]
  },
  {
   "cell_type": "code",
   "execution_count": null,
   "id": "12",
   "metadata": {},
   "outputs": [],
   "source": [
    "lon_values = np.arange(200, 331, 2.5)\n",
    "xr.DataArray(array, dims=(\"time\", \"lat\", \"lon\"), coords={\"lon\": lon_values})"
   ]
  },
  {
   "cell_type": "markdown",
   "id": "13",
   "metadata": {},
   "source": [
    "Assigning a plain numpy array is equivalent to creating a DataArray with those values and the same dimension  name"
   ]
  },
  {
   "cell_type": "code",
   "execution_count": null,
   "id": "14",
   "metadata": {},
   "outputs": [],
   "source": [
    "lon_da = xr.DataArray(lon_values, dims=\"lon\")\n",
    "da = xr.DataArray(array, dims=(\"time\", \"lat\", \"lon\"), coords={\"lon\": lon_da})\n",
    "da"
   ]
  },
  {
   "cell_type": "markdown",
   "id": "15",
   "metadata": {},
   "source": [
    "We can also assign coordinates after a DataArray has been created."
   ]
  },
  {
   "cell_type": "code",
   "execution_count": null,
   "id": "16",
   "metadata": {},
   "outputs": [],
   "source": [
    "da.coords[\"lat\"] = np.arange(75, 14.9, -2.5)\n",
    "da"
   ]
  },
  {
   "cell_type": "markdown",
   "id": "17",
   "metadata": {},
   "source": [
    "### Attributes \n",
    "\n",
    "Arbitrary attributes can be assigned using the `.attrs` property"
   ]
  },
  {
   "cell_type": "code",
   "execution_count": null,
   "id": "18",
   "metadata": {},
   "outputs": [],
   "source": [
    "da.attrs[\"attribute\"] = \"hello\"\n",
    "da"
   ]
  },
  {
   "cell_type": "markdown",
   "id": "19",
   "metadata": {},
   "source": [
    "or specified in the constructor"
   ]
  },
  {
   "cell_type": "code",
   "execution_count": null,
   "id": "20",
   "metadata": {},
   "outputs": [],
   "source": [
    "da2 = xr.DataArray(\n",
    "    array, dims=(\"time\", \"lat\", \"lon\"), coords={\"lon\": lon_da}, attrs={\"attribute\": \"hello\"}\n",
    ")\n",
    "da2"
   ]
  },
  {
   "cell_type": "markdown",
   "id": "21",
   "metadata": {},
   "source": [
    "### Non-dimension coordinates\n",
    "\n",
    "Sometimes we want to attach coordinate variables along an existing dimension. Notice that \n",
    "1. `itime` is not bolded and \n",
    "2. has a name \"time\" that is different from the dimension name \"time\"\n",
    "\n",
    "`itime` is an example of a non-dimension coordinate variable i.e. it is a coordinate variable that does not match a dimension name. Here we demonstrate the \"tuple\" form of assigninment:  `(dims, data, attrs)`"
   ]
  },
  {
   "cell_type": "code",
   "execution_count": null,
   "id": "22",
   "metadata": {},
   "outputs": [],
   "source": [
    "da.coords[\"itime\"] = (\"time\", np.arange(2920), {\"name\": \"value\"})\n",
    "da"
   ]
  },
  {
   "cell_type": "markdown",
   "id": "23",
   "metadata": {},
   "source": [
    "### Exercises\n",
    "\n",
    "create a `DataArray` named \"height\" from random data `rng.random((180, 360)) * 400`\n",
    "\n",
    "1. with dimensions named \"latitude\" and \"longitude\"\n"
   ]
  },
  {
   "cell_type": "code",
   "execution_count": null,
   "id": "24",
   "metadata": {
    "tags": [
     "hide-input",
     "hide-output"
    ]
   },
   "outputs": [],
   "source": [
    "xr.DataArray(rng.random((180, 360)) * 400, dims=(\"latitude\", \"longitude\"), name=\"height\")"
   ]
  },
  {
   "cell_type": "markdown",
   "id": "25",
   "metadata": {},
   "source": [
    "2. with dimension coordinates:\n",
    "\n",
    "- \"latitude\": -90 to 89 with step size 1\n",
    "- \"longitude\": -180 to 179 with step size 1\n"
   ]
  },
  {
   "cell_type": "code",
   "execution_count": null,
   "id": "26",
   "metadata": {
    "tags": [
     "hide-input",
     "hide-output"
    ]
   },
   "outputs": [],
   "source": [
    "xr.DataArray(\n",
    "    rng.random((180, 360)) * 400,\n",
    "    dims=(\"latitude\", \"longitude\"),\n",
    "    coords={\"latitude\": np.arange(-90, 90, 1), \"longitude\": np.arange(-180, 180, 1)},\n",
    ")"
   ]
  },
  {
   "cell_type": "markdown",
   "id": "27",
   "metadata": {},
   "source": [
    "3. with metadata for both data and coordinates:\n",
    "\n",
    "- height: \"type\": \"ellipsoid\"\n",
    "- latitude: \"type\": \"geodetic\"\n",
    "- longitude: \"prime_meridian\": \"greenwich\"\n"
   ]
  },
  {
   "cell_type": "code",
   "execution_count": null,
   "id": "28",
   "metadata": {},
   "outputs": [],
   "source": [
    "xr.DataArray(\n",
    "    rng.random((180, 360)) * 400,\n",
    "    dims=(\"latitude\", \"longitude\"),\n",
    "    coords={\n",
    "        \"latitude\": (\"latitude\", np.arange(-90, 90, 1), {\"type\": \"geodetic\"}),\n",
    "        \"longitude\": (\n",
    "            \"longitude\",\n",
    "            np.arange(-180, 180, 1),\n",
    "            {\"prime_meridian\": \"greenwich\"},\n",
    "        ),\n",
    "    },\n",
    "    attrs={\"type\": \"ellipsoid\"},\n",
    "    name=\"height\",\n",
    ")"
   ]
  },
  {
   "cell_type": "markdown",
   "id": "29",
   "metadata": {},
   "source": [
    "## Dataset\n",
    "\n",
    "`Dataset` objects collect multiple data variables, each with possibly different\n",
    "dimensions.\n",
    "\n",
    "The constructor of `Dataset` takes three parameters:\n",
    "\n",
    "- `data_vars`: dict-like mapping names to values. Values are either `DataArray` objects\n",
    "  or defined with tuples consisting of of dimension names and arrays.\n",
    "- `coords`: same as for `DataArray`\n",
    "- `attrs`: same as for `Dataset`"
   ]
  },
  {
   "cell_type": "markdown",
   "id": "30",
   "metadata": {},
   "source": [
    "Creating an empty Dataset is easy!"
   ]
  },
  {
   "cell_type": "code",
   "execution_count": null,
   "id": "31",
   "metadata": {},
   "outputs": [],
   "source": [
    "xr.Dataset()"
   ]
  },
  {
   "cell_type": "markdown",
   "id": "32",
   "metadata": {},
   "source": [
    "### Data Variables\n",
    "\n",
    "Let's create a `Dataset` with two data variables: `da` and `da2`"
   ]
  },
  {
   "cell_type": "code",
   "execution_count": null,
   "id": "33",
   "metadata": {},
   "outputs": [],
   "source": [
    "ds = xr.Dataset({\"air\": da, \"air2\": da2})\n",
    "ds"
   ]
  },
  {
   "cell_type": "markdown",
   "id": "34",
   "metadata": {},
   "source": [
    "You can directly assign a new data variables"
   ]
  },
  {
   "cell_type": "code",
   "execution_count": null,
   "id": "35",
   "metadata": {},
   "outputs": [],
   "source": [
    "ds[\"air3\"] = da\n",
    "ds"
   ]
  },
  {
   "cell_type": "markdown",
   "id": "36",
   "metadata": {},
   "source": [
    "### Coordinates\n",
    "\n",
    "Coordinate variables can be assigned using the `coords` kwarg to `xr.Dataset`. Here we use `date_range` from pandas to create a time vector"
   ]
  },
  {
   "cell_type": "code",
   "execution_count": null,
   "id": "37",
   "metadata": {},
   "outputs": [],
   "source": [
    "xr.Dataset(\n",
    "    {\"air\": da, \"air2\": da2},\n",
    "    coords={\"time\": pd.date_range(\"2013-01-01\", \"2014-12-31 18:00\", freq=\"6H\")},\n",
    ")"
   ]
  },
  {
   "cell_type": "markdown",
   "id": "38",
   "metadata": {},
   "source": [
    "Again we can assign coordinate variables after a Dataset has been created."
   ]
  },
  {
   "cell_type": "code",
   "execution_count": null,
   "id": "39",
   "metadata": {},
   "outputs": [],
   "source": [
    "ds"
   ]
  },
  {
   "cell_type": "code",
   "execution_count": null,
   "id": "40",
   "metadata": {},
   "outputs": [],
   "source": [
    "ds.coords[\"time\"] = pd.date_range(\"2013-01-01\", \"2014-12-31 18:00\", freq=\"6H\")\n",
    "ds"
   ]
  },
  {
   "cell_type": "markdown",
   "id": "41",
   "metadata": {},
   "source": [
    "### Attributes"
   ]
  },
  {
   "cell_type": "code",
   "execution_count": null,
   "id": "42",
   "metadata": {},
   "outputs": [],
   "source": [
    "xr.Dataset(\n",
    "    {\"air\": da, \"air2\": da2},\n",
    "    coords={\"time\": pd.date_range(\"2013-01-01\", \"2014-12-31 18:00\", freq=\"6H\")},\n",
    "    attrs={\"key0\": \"value0\"},\n",
    ")"
   ]
  },
  {
   "cell_type": "code",
   "execution_count": null,
   "id": "43",
   "metadata": {},
   "outputs": [],
   "source": [
    "ds.attrs[\"key\"] = \"value\""
   ]
  },
  {
   "cell_type": "markdown",
   "id": "44",
   "metadata": {},
   "source": [
    "### Exercises\n",
    "\n",
    "1. create a Dataset with two variables along `latitude` and `longitude`:\n",
    "   `height` and `gravity_anomaly`\n"
   ]
  },
  {
   "cell_type": "code",
   "execution_count": null,
   "id": "45",
   "metadata": {},
   "outputs": [],
   "source": [
    "height = rng.random((180, 360)) * 400\n",
    "gravity_anomaly = rng.random((180, 360)) * 400 - 200"
   ]
  },
  {
   "cell_type": "code",
   "execution_count": null,
   "id": "46",
   "metadata": {
    "tags": [
     "hide-input",
     "hide-output"
    ]
   },
   "outputs": [],
   "source": [
    "xr.Dataset(\n",
    "    {\n",
    "        \"height\": ((\"latitude\", \"longitude\"), height),\n",
    "        \"gravity_anomaly\": ((\"latitude\", \"longitude\"), gravity_anomaly),\n",
    "    }\n",
    ")"
   ]
  },
  {
   "cell_type": "markdown",
   "id": "47",
   "metadata": {},
   "source": [
    "2. add coordinates to `latitude` and `longitude`:\n",
    "\n",
    "- `latitude`: from -90 to 90 with step size 1\n",
    "- `longitude`: from -180 to 180 with step size 1\n"
   ]
  },
  {
   "cell_type": "code",
   "execution_count": null,
   "id": "48",
   "metadata": {},
   "outputs": [],
   "source": [
    "xr.Dataset(\n",
    "    {\n",
    "        \"height\": ((\"latitude\", \"longitude\"), height),\n",
    "        \"gravity_anomaly\": ((\"latitude\", \"longitude\"), gravity_anomaly),\n",
    "    },\n",
    "    coords={\n",
    "        \"latitude\": (\"latitude\", np.arange(-90, 90, 1)),\n",
    "        \"longitude\": (\"longitude\", np.arange(-180, 180, 1)),\n",
    "    },\n",
    ")"
   ]
  },
  {
   "cell_type": "markdown",
   "id": "49",
   "metadata": {},
   "source": [
    "3. add metadata to coordinates and variables:\n",
    "\n",
    "- `latitude`: \"type\": \"geodetic\"\n",
    "- `longitude`: \"prime_meridian\": \"greenwich\"\n",
    "- `height`: \"ellipsoid\": \"wgs84\"\n",
    "- `gravity_anomaly`: \"ellipsoid\": \"grs80\"\n"
   ]
  },
  {
   "cell_type": "code",
   "execution_count": null,
   "id": "50",
   "metadata": {
    "tags": [
     "hide-input",
     "hide-output"
    ]
   },
   "outputs": [],
   "source": [
    "xr.Dataset(\n",
    "    {\n",
    "        \"height\": ((\"latitude\", \"longitude\"), height, {\"ellipsoid\": \"wgs84\"}),\n",
    "        \"gravity_anomaly\": ((\"latitude\", \"longitude\"), gravity_anomaly, {\"ellipsoid\": \"grs80\"}),\n",
    "    },\n",
    "    coords={\n",
    "        \"latitude\": (\"latitude\", np.arange(-90, 90, 1), {\"type\": \"geodetic\"}),\n",
    "        \"longitude\": (\n",
    "            \"longitude\",\n",
    "            np.arange(-180, 180, 1),\n",
    "            {\"prime_meridian\": \"greenwich\"},\n",
    "        ),\n",
    "    },\n",
    ")"
   ]
  }
 ],
 "metadata": {
  "language_info": {
   "codemirror_mode": {
    "name": "ipython",
    "version": 3
   },
   "file_extension": ".py",
   "mimetype": "text/x-python",
   "name": "python",
   "nbconvert_exporter": "python",
   "pygments_lexer": "ipython3"
  }
 },
 "nbformat": 4,
 "nbformat_minor": 5
}
