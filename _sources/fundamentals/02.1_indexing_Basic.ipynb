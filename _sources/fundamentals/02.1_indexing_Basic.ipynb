{
 "cells": [
  {
   "cell_type": "markdown",
   "metadata": {},
   "source": [
    "# Indexing and Selecting Data\n",
    "\n",
    "## Learning Objectives\n",
    "\n",
    "- Understanding the difference between position and label-based indexing\n",
    "- Select data by position using `.isel` with values or slices\n",
    "- Select data by label using `.sel` with values or slices\n",
    "- Use nearest-neighbor lookups with `.sel`\n",
    "- Select timeseries data by date/time with values or slices\n"
   ]
  },
  {
   "cell_type": "markdown",
   "metadata": {},
   "source": [
    "## Introduction\n",
    "\n",
    "Xarray offers extremely flexible indexing routines that combine the best features of NumPy and Pandas for data selection.\n",
    "\n",
    "The most basic way to access elements of a `DataArray` object is to use Python’s `[]` syntax, such as `array[i, j]`, where `i` and `j` are both integers.\n",
    "\n",
    "As xarray objects can store coordinates corresponding to each dimension of an array, label-based indexing is also possible (e.g. `.sel(latitude=0)`, similar to `pandas.DataFrame.loc`). In label-based indexing, the element position `i` is automatically looked-up from the coordinate values.\n",
    "\n",
    "By leveraging the labeled dimensions and coordinates provided by Xarray, users can effortlessly access, subset, and manipulate data along multiple axes, enabling complex operations such as slicing, masking, and aggregating data based on specific criteria. \n",
    "\n",
    "This indexing and selection capability of Xarray not only enhances data exploration and analysis workflows but also promotes reproducibility and efficiency by providing a convenient interface for working with multi-dimensional data structures.\n",
    "\n",
    "## Quick Overview \n",
    "\n",
    "In total, xarray supports four different kinds of indexing, as described below and summarized in this table:\n",
    "\n",
    "| Dimension lookup | Index lookup | `DataArray` syntax   |   `Dataset` syntax   |\n",
    "| ---------------- | ------------ | ---------------------| ---------------------|\n",
    "| Positional       | By integer   | `da[:,0]`            | *not available*      |\n",
    "| Positional       | By label     | `da.loc[:,'IA']`     | *not available*      |\n",
    "| By name          | By integer   | `da.isel(space=0)` or `da[dict(space=0)]`  | `ds.isel(space=0)` or  `ds[dict(space=0)]`  |\n",
    "| By name          | By label     | `da.sel(space='IA')` or `da.loc[dict(space='IA')]` | `ds.sel(space='IA')` or `ds.loc[dict(space='IA')]` |\n",
    "\n",
    "\n",
    "----------\n",
    "\n",
    "In this tutorial, first we cover the positional indexing and label-based indexing, next we will cover more advanced techniques such as nearest neighbor lookups. \n",
    "\n",
    "First, let's import packages: "
   ]
  },
  {
   "cell_type": "code",
   "execution_count": null,
   "metadata": {
    "tags": []
   },
   "outputs": [],
   "source": [
    "import xarray as xr\n",
    "\n",
    "xr.set_options(display_expand_attrs=False, display_expand_data=False);"
   ]
  },
  {
   "cell_type": "markdown",
   "metadata": {},
   "source": [
    "Here we’ll use air temperature tutorial dataset from the [National Center for Environmental Prediction](https://www.weather.gov/ncep/). "
   ]
  },
  {
   "cell_type": "code",
   "execution_count": null,
   "metadata": {
    "tags": []
   },
   "outputs": [],
   "source": [
    "ds = xr.tutorial.load_dataset(\"air_temperature\")\n",
    "ds"
   ]
  },
  {
   "cell_type": "code",
   "execution_count": null,
   "metadata": {
    "tags": []
   },
   "outputs": [],
   "source": [
    "da = ds[\"air\"]"
   ]
  },
  {
   "cell_type": "markdown",
   "metadata": {},
   "source": [
    "## Position-based Indexing\n",
    "\n",
    "Indexing a `DataArray` directly works (mostly) just like it does for numpy `ndarrays`, except that the returned object is always another `DataArray`:\n",
    "\n"
   ]
  },
  {
   "cell_type": "markdown",
   "metadata": {},
   "source": [
    "### NumPy Positional Indexing\n",
    "\n",
    "When working with numpy, indexing is done by position (slices/ranges/scalars).\n",
    "\n",
    "For example:"
   ]
  },
  {
   "cell_type": "code",
   "execution_count": null,
   "metadata": {
    "tags": []
   },
   "outputs": [],
   "source": [
    "np_array = ds[\"air\"].data  # numpy array\n",
    "np_array.shape"
   ]
  },
  {
   "cell_type": "markdown",
   "metadata": {},
   "source": [
    "Indexing is 0-based in NumPy:"
   ]
  },
  {
   "cell_type": "code",
   "execution_count": null,
   "metadata": {
    "tags": []
   },
   "outputs": [],
   "source": [
    "np_array[1, 0, 0]"
   ]
  },
  {
   "cell_type": "markdown",
   "metadata": {},
   "source": [
    "Similarly, we can select a range in NumPy:"
   ]
  },
  {
   "cell_type": "code",
   "execution_count": null,
   "metadata": {
    "tags": []
   },
   "outputs": [],
   "source": [
    "# extract a time-series for one spatial location\n",
    "np_array[:, 20, 40]"
   ]
  },
  {
   "cell_type": "markdown",
   "metadata": {
    "tags": []
   },
   "source": [
    "### Positional Indexing with Xarray"
   ]
  },
  {
   "cell_type": "markdown",
   "metadata": {},
   "source": [
    "Xarray offers extremely flexible indexing routines that combine the best\n",
    "features of NumPy and pandas for data selection."
   ]
  },
  {
   "cell_type": "markdown",
   "metadata": {
    "tags": []
   },
   "source": [
    "#### NumPy style indexing with Xarray\n",
    "\n",
    "NumPy style indexing works exactly the same with Xarray but it also preserves labels and metadata. \n",
    "\n",
    "This approach however does not take advantage of the dimension names and coordinate location information that is present in a Xarray object."
   ]
  },
  {
   "cell_type": "code",
   "execution_count": null,
   "metadata": {
    "tags": []
   },
   "outputs": [],
   "source": [
    "da[:, 20, 40]"
   ]
  },
  {
   "cell_type": "markdown",
   "metadata": {},
   "source": []
  },
  {
   "cell_type": "markdown",
   "metadata": {},
   "source": [
    "#### Positional Indexing Using Dimension Names"
   ]
  },
  {
   "cell_type": "markdown",
   "metadata": {},
   "source": [
    "Remembering the axis order can be challenging even with 2D arrays:\n",
    "- is `np_array[0,3]` the first row and third column or first column and third row? \n",
    "- or did I store these samples by row or by column when I saved the data?!. \n",
    "\n",
    "The difficulty is compounded with added dimensions. \n",
    "\n",
    "Xarray objects eliminate much of the mental overhead by allowing indexing using dimension names instead of axes numbers:"
   ]
  },
  {
   "cell_type": "code",
   "execution_count": null,
   "metadata": {
    "tags": []
   },
   "outputs": [],
   "source": [
    "da.isel(lat=20, lon=40).plot();"
   ]
  },
  {
   "cell_type": "markdown",
   "metadata": {},
   "source": [
    "Slicing is also possible similarly:"
   ]
  },
  {
   "cell_type": "code",
   "execution_count": null,
   "metadata": {
    "tags": []
   },
   "outputs": [],
   "source": [
    "da.isel(time=slice(0, 20), lat=20, lon=40).plot();"
   ]
  },
  {
   "cell_type": "markdown",
   "metadata": {},
   "source": [
    "```{note}\n",
    "Using the `isel` method, the user can choose/slice the specific elements from a Dataset or DataArray.\n",
    "```"
   ]
  },
  {
   "cell_type": "markdown",
   "metadata": {
    "tags": []
   },
   "source": [
    "Indexing a DataArray directly works (mostly) just like it does for numpy arrays, except that the returned object is always another DataArray; however,when indexing with multiple arrays, positional indexing in Xarray behaves differently compared to NumPy.\n",
    "\n",
    "```{caution}\n",
    "Positional indexing deviates from the NumPy behavior when indexing with multiple arrays. \n",
    "```\n",
    "We can show this with an example: "
   ]
  },
  {
   "cell_type": "code",
   "execution_count": null,
   "metadata": {
    "tags": []
   },
   "outputs": [],
   "source": [
    "np_array[:, [0, 1], [0, 1]].shape"
   ]
  },
  {
   "cell_type": "code",
   "execution_count": null,
   "metadata": {
    "tags": []
   },
   "outputs": [],
   "source": [
    "da[:, [0, 1], [0, 1]].shape"
   ]
  },
  {
   "cell_type": "markdown",
   "metadata": {
    "tags": []
   },
   "source": [
    "Please note how the dimension of the `DataArray()` object is different from the `numpy.ndarray`.\n",
    "\n",
    "```{tip}\n",
    "However, users can still achieve NumPy-like pointwise indexing across multiple labeled dimensions by using Xarray vectorized indexing techniques. We will delve further into this topic in the advanced indexing notebook.\n",
    "```"
   ]
  },
  {
   "cell_type": "markdown",
   "metadata": {},
   "source": [
    "So far, we have explored positional indexing, which relies on knowing the exact indices. But, what if you wanted to select data specifically for a particular latitude? It becomes challenging to determine the corresponding indices in such cases. Xarray reduce this complexity by introducing label-based indexing. \n",
    "\n",
    "## Label-based Indexing\n",
    "\n",
    "To select data by coordinate labels instead of integer indices we can use the same syntax, using `sel` instead of `isel`:"
   ]
  },
  {
   "cell_type": "markdown",
   "metadata": {},
   "source": [
    "For example, let's select all data for Lat 25 °N and Lon 210 °E using `sel` :"
   ]
  },
  {
   "cell_type": "code",
   "execution_count": null,
   "metadata": {
    "tags": [
     "hide-output"
    ]
   },
   "outputs": [],
   "source": [
    "da.sel(lat=25, lon=210).plot();"
   ]
  },
  {
   "cell_type": "markdown",
   "metadata": {},
   "source": [
    "Similarly we can do slicing or filter a range using the `.slice` function: "
   ]
  },
  {
   "cell_type": "code",
   "execution_count": null,
   "metadata": {
    "tags": []
   },
   "outputs": [],
   "source": [
    "# demonstrate slicing\n",
    "da.sel(lon=slice(210, 215))"
   ]
  },
  {
   "cell_type": "code",
   "execution_count": null,
   "metadata": {
    "tags": []
   },
   "outputs": [],
   "source": [
    "# demonstrate slicing\n",
    "da.sel(lat=slice(50, 25), lon=slice(210, 215))"
   ]
  },
  {
   "cell_type": "markdown",
   "metadata": {},
   "source": [
    "### Dropping using `drop_sel`\n",
    "\n",
    "If instead of selecting data we want to drop it, we can use `drop_sel` method with syntax similar to `sel`:"
   ]
  },
  {
   "cell_type": "code",
   "execution_count": null,
   "metadata": {
    "tags": []
   },
   "outputs": [],
   "source": [
    "da.drop_sel(lat=50.0, lon=200.0)"
   ]
  },
  {
   "cell_type": "markdown",
   "metadata": {},
   "source": [
    "So far, all the above will require us to specify exact coordinate values, but what if we don't have the exact values? We can use nearest neighbor lookups to address this issue:\n",
    "\n",
    "## Nearest Neighbor Lookups\n",
    "\n",
    "The label based selection methods `sel()` support `method` and `tolerance` keyword argument. The `method` parameter allows for enabling nearest neighbor (inexact) lookups by use of the methods `pad`, `backfill` or `nearest`:"
   ]
  },
  {
   "cell_type": "code",
   "execution_count": null,
   "metadata": {
    "tags": []
   },
   "outputs": [],
   "source": [
    "da.sel(lat=52.25, lon=251.8998, method=\"nearest\")"
   ]
  },
  {
   "cell_type": "markdown",
   "metadata": {
    "tags": []
   },
   "source": [
    "`tolerance` argument limits the maximum distance for valid matches with an inexact lookup:"
   ]
  },
  {
   "cell_type": "code",
   "execution_count": null,
   "metadata": {
    "tags": []
   },
   "outputs": [],
   "source": [
    "da.sel(lat=52.25, lon=251.8998, method=\"nearest\", tolerance=2)"
   ]
  },
  {
   "cell_type": "markdown",
   "metadata": {},
   "source": [
    "```{tip}\n",
    "All of these indexing methods work on the dataset too!\n",
    "```\n",
    "\n",
    "We can also use these methods to index all variables in a dataset simultaneously, returning a new dataset:"
   ]
  },
  {
   "cell_type": "code",
   "execution_count": null,
   "metadata": {
    "tags": []
   },
   "outputs": [],
   "source": [
    "ds.sel(lat=52.25, lon=251.8998, method=\"nearest\")"
   ]
  },
  {
   "cell_type": "markdown",
   "metadata": {},
   "source": [
    "## Datetime Indexing\n",
    "\n",
    "\n",
    "Datetime indexing is a critical feature when working with time series data, which is a common occurrence in many fields, including finance, economics, and environmental sciences. Essentially, datetime indexing allows you to select data points or a series of data points that correspond to certain date or time criteria. This becomes essential for time-series analysis where the date or time information associated with each data point can be as critical as the data point itself.\n",
    "\n",
    "Let's see some of the techniques to perform datetime indexing in Xarray:\n",
    "\n",
    "### Selecting data based on single datetime\n",
    "\n",
    "Let's say we have a Dataset ds and we want to select data at a particular date and time, for instance, '2013-01-01' at 6AM. We can do this by using the `sel` (select) method, like so:\n"
   ]
  },
  {
   "cell_type": "code",
   "execution_count": null,
   "metadata": {
    "tags": []
   },
   "outputs": [],
   "source": [
    "ds.sel(time='2013-01-01 06:00')"
   ]
  },
  {
   "cell_type": "markdown",
   "metadata": {},
   "source": [
    "By default, datetime selection will return a range of values that match the provided string. For e.g. `time=\"2013-01-01\"` will return all timestamps for that day (4 of them here):"
   ]
  },
  {
   "cell_type": "code",
   "execution_count": null,
   "metadata": {
    "tags": []
   },
   "outputs": [],
   "source": [
    "ds.sel(time='2013-01-01')"
   ]
  },
  {
   "cell_type": "markdown",
   "metadata": {
    "tags": []
   },
   "source": [
    "We can use this feature to select all points in a year:"
   ]
  },
  {
   "cell_type": "code",
   "execution_count": null,
   "metadata": {
    "tags": []
   },
   "outputs": [],
   "source": [
    "ds.sel(time=\"2014\")"
   ]
  },
  {
   "cell_type": "markdown",
   "metadata": {},
   "source": [
    "or a month:"
   ]
  },
  {
   "cell_type": "code",
   "execution_count": null,
   "metadata": {
    "tags": []
   },
   "outputs": [],
   "source": [
    "ds.sel(time=\"2014-May\")"
   ]
  },
  {
   "cell_type": "markdown",
   "metadata": {
    "tags": []
   },
   "source": [
    "### Selecting data for a range of dates\n",
    "\n",
    "Now, let's say we want to select data between a certain range of dates. We can still use the `sel` method, but this time we will combine it with slice:"
   ]
  },
  {
   "cell_type": "code",
   "execution_count": null,
   "metadata": {
    "tags": []
   },
   "outputs": [],
   "source": [
    "# This will return a subset of the dataset corresponding to the entire year of 2013.\n",
    "ds.sel(time=slice('2013-01-01', '2013-12-31'))"
   ]
  },
  {
   "cell_type": "markdown",
   "metadata": {
    "tags": []
   },
   "source": [
    "```{note}\n",
    "\n",
    "The slice function takes two arguments, start and stop, to make a slice that includes these endpoints. When we use `slice` with the `sel` method, it provides an efficient way to select a range of dates. The above example shows the usage of slice for datetime indexing.\n",
    "\n",
    "```"
   ]
  },
  {
   "cell_type": "markdown",
   "metadata": {},
   "source": [
    "### Indexing with a DatetimeIndex or date string list\n",
    "\n",
    "Another technique is to use a list of datetime objects or date strings for indexing. For example, you could select data for specific, non-contiguous dates like this:"
   ]
  },
  {
   "cell_type": "code",
   "execution_count": null,
   "metadata": {
    "tags": []
   },
   "outputs": [],
   "source": [
    "dates = ['2013-07-09', '2013-10-11', '2013-12-24']\n",
    "ds.sel(time=dates)"
   ]
  },
  {
   "cell_type": "markdown",
   "metadata": {},
   "source": [
    "### Fancy indexing based on year, month, day, or other datetime components\n",
    "\n",
    "In addition to the basic datetime indexing techniques, Xarray also supports \"fancy\" indexing options, which can provide more flexibility and efficiency in your data analysis tasks. You can directly access datetime components such as year, month, day, hour, etc. using the `.dt` accessor. Here is an example of selecting all data points from July across all years:"
   ]
  },
  {
   "cell_type": "code",
   "execution_count": null,
   "metadata": {
    "tags": []
   },
   "outputs": [],
   "source": [
    "ds.sel(time=ds.time.dt.month == 7)"
   ]
  },
  {
   "cell_type": "markdown",
   "metadata": {
    "tags": []
   },
   "source": [
    "Or, if you wanted to select data from a specific day of each month, you could use:"
   ]
  },
  {
   "cell_type": "code",
   "execution_count": null,
   "metadata": {
    "tags": []
   },
   "outputs": [],
   "source": [
    "ds.sel(time=ds.time.dt.day == 15)"
   ]
  },
  {
   "cell_type": "markdown",
   "metadata": {},
   "source": [
    "\n",
    "\n"
   ]
  },
  {
   "cell_type": "markdown",
   "metadata": {},
   "source": [
    "## Exercises\n",
    "\n",
    "Practice the syntax you’ve learned so far:"
   ]
  },
  {
   "cell_type": "markdown",
   "metadata": {},
   "source": [
    "```{exercise}\n",
    ":label: indexing-1\n",
    "\n",
    "Select the first 30 entries of `latitude` and 30th to 40th entries of `longitude`:\n",
    "```\n",
    "\n",
    "````{solution} indexing-1\n",
    ":class: dropdown\n",
    "```python\n",
    "ds.isel(lat=slice(None, 30), lon=slice(30, 40))\n",
    "```\n",
    "\n",
    "````"
   ]
  },
  {
   "cell_type": "markdown",
   "metadata": {},
   "source": [
    "```{exercise}\n",
    ":label: indexing-2\n",
    "\n",
    "Select all data at 75 degree north and between Jan 1, 2013 and Oct 15, 2013 :\n",
    "```\n",
    "````{solution} indexing-2\n",
    ":class: dropdown\n",
    "```python\n",
    "ds.sel(lat=75, time=slice(\"2013-01-01\", \"2013-10-15\"))\n",
    "```\n",
    "````"
   ]
  },
  {
   "cell_type": "markdown",
   "metadata": {},
   "source": [
    "```{exercise}\n",
    ":label: indexing-3\n",
    "\n",
    "Remove all entries at 260 and 270 degrees :\n",
    "\n",
    "```\n",
    "````{solution} indexing-3\n",
    ":class: dropdown\n",
    "```python\n",
    "ds.drop_sel(lon=[260, 270])\n",
    "```\n",
    "````"
   ]
  },
  {
   "cell_type": "markdown",
   "metadata": {},
   "source": [
    "## Summary\n",
    "\n",
    "In total, Xarray supports four different kinds of indexing, as described below and summarized in this table:\n",
    "\n",
    "\n",
    "| Dimension lookup | Index lookup | `DataArray` syntax   |   `Dataset` syntax   |\n",
    "| ---------------- | ------------ | ---------------------| ---------------------|\n",
    "| Positional       | By integer   | `da[:,0]`            | *not available*      |\n",
    "| Positional       | By label     | `da.loc[:,'IA']`     | *not available*      |\n",
    "| By name          | By integer   | `da.isel(space=0)` or `da[dict(space=0)]`  | `ds.isel(space=0)` or  `ds[dict(space=0)]`  |\n",
    "| By name          | By label     | `da.sel(space='IA')` or `da.loc[dict(space='IA')]` | `ds.sel(space='IA')` or `ds.loc[dict(space='IA')]` |\n",
    "\n",
    "\n",
    "For enhanced indexing capabilities across all methods, you can utilize DataArray objects as an indexer. For more detailed information, please see the Advanced Indexing notebook.\n",
    "\n",
    "\n",
    "## More Resources\n",
    "\n",
    "- [Xarray Docs - Indexing and Selecting Data](https://docs.xarray.dev/en/stable/indexing.html)"
   ]
  }
 ],
 "metadata": {
  "language_info": {
   "codemirror_mode": {
    "name": "ipython",
    "version": 3
   },
   "file_extension": ".py",
   "mimetype": "text/x-python",
   "name": "python",
   "nbconvert_exporter": "python",
   "pygments_lexer": "ipython3"
  },
  "toc": {
   "base_numbering": 1,
   "nav_menu": {},
   "number_sections": true,
   "sideBar": true,
   "skip_h1_title": false,
   "title_cell": "Table of Contents",
   "title_sidebar": "Contents",
   "toc_cell": true,
   "toc_position": {},
   "toc_section_display": true,
   "toc_window_display": true
  }
 },
 "nbformat": 4,
 "nbformat_minor": 4
}
