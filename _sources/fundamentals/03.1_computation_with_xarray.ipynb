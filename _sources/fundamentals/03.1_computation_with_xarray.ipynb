{
 "cells": [
  {
   "cell_type": "markdown",
   "metadata": {},
   "source": [
    "<img src=\"http://xarray.pydata.org/en/stable/_static/dataset-diagram-logo.png\" align=\"right\" width=\"30%\">\n",
    "\n",
    "# Computation with Xarray\n",
    "\n",
    "In this lesson, we discuss how to do scientific computations with xarray\n",
    "objects. Our learning goals are as follows. By the end of the lesson, we will be\n",
    "able to:\n",
    "\n",
    "- Apply basic arithmetic and numpy functions to xarray DataArrays / Dataset.\n",
    "- Use Xarray's label-aware reduction operations (e.g. `mean`, `sum`) weighted\n",
    "  reductions.\n",
    "- Apply arbitrary functions to Xarray data via `apply_ufunc`.\n",
    "- Use Xarray's broadcasting to compute on arrays of different dimensionality."
   ]
  },
  {
   "cell_type": "code",
   "execution_count": null,
   "metadata": {},
   "outputs": [],
   "source": [
    "import numpy as np\n",
    "import xarray as xr\n",
    "from matplotlib import pyplot as plt"
   ]
  },
  {
   "cell_type": "markdown",
   "metadata": {},
   "source": [
    "## Example Dataset\n",
    "\n",
    "First we load a dataset. We will use the\n",
    "[NOAA Extended Reconstructed Sea Surface Temperature (ERSST) v5](https://www.ncdc.noaa.gov/data-access/marineocean-data/extended-reconstructed-sea-surface-temperature-ersst-v5)\n",
    "product, a widely used and trusted gridded compilation of of historical data\n",
    "going back to 1854.\n",
    "\n",
    "Since the data is provided via an\n",
    "[OPeNDAP](https://en.wikipedia.org/wiki/OPeNDAP) server, we can load it directly\n",
    "without downloading anything:\n"
   ]
  },
  {
   "cell_type": "code",
   "execution_count": null,
   "metadata": {},
   "outputs": [],
   "source": [
    "### NOTE: If hundreds of people connect to this server at once and download the same dataset,\n",
    "###       things might not go so well! Recommended to use the Google Cloud copy instead.\n",
    "\n",
    "# url = \"http://www.esrl.noaa.gov/psd/thredds/dodsC/Datasets/noaa.ersst.v5/sst.mnmean.nc\"\n",
    "# # drop an unnecessary variable which complicates some operations\n",
    "# ds = xr.open_dataset(url, drop_variables=[\"time_bnds\"])\n",
    "# # will take a minute or two to complete\n",
    "# ds = ds.sel(time=slice(\"1960\", \"2018\")).load()\n",
    "# ds"
   ]
  },
  {
   "cell_type": "code",
   "execution_count": null,
   "metadata": {},
   "outputs": [],
   "source": [
    "import gcsfs\n",
    "\n",
    "fs = gcsfs.GCSFileSystem(token=\"anon\")\n",
    "ds = xr.open_zarr(\n",
    "    fs.get_mapper(\"gs://pangeo-noaa-ncei/noaa.ersst.v5.zarr\"), consolidated=True\n",
    ").load()\n",
    "ds"
   ]
  },
  {
   "cell_type": "markdown",
   "metadata": {},
   "source": [
    "Let's do some basic visualizations of the data, just to make sure it looks\n",
    "reasonable.\n"
   ]
  },
  {
   "cell_type": "code",
   "execution_count": null,
   "metadata": {},
   "outputs": [],
   "source": [
    "ds.sst[0].plot(vmin=-2, vmax=30)"
   ]
  },
  {
   "cell_type": "markdown",
   "metadata": {},
   "source": [
    "## Basic Arithmetic\n",
    "\n",
    "Xarray dataarrays and datasets work seamlessly with arithmetic operators and\n",
    "numpy array functions.\n",
    "\n",
    "For example, imagine we want to convert the temperature (given in Celsius) to\n",
    "Kelvin:\n"
   ]
  },
  {
   "cell_type": "code",
   "execution_count": null,
   "metadata": {},
   "outputs": [],
   "source": [
    "sst_kelvin = ds.sst + 273.15\n",
    "sst_kelvin"
   ]
  },
  {
   "cell_type": "markdown",
   "metadata": {},
   "source": [
    "The dimensions and coordinates were preserved following the operation.\n",
    "\n",
    "<div class=\"alert alert-warning\">\n",
    "    <strong>Warning:</strong> Although many xarray datasets have a <code>units</code> attribute, which is used in plotting,\n",
    "    Xarray does not inherently understand units. However, work is underway to integrate xarray\n",
    "    with <a href=\"https://pint.readthedocs.io/en/0.12/\">pint</a>, which will provide full unit-aware operations.\n",
    "</div>\n",
    "\n",
    "We can apply more complex functions, including numpy ufuncs, to Xarray objects.\n",
    "Imagine we wanted to compute the following expression as a function of SST\n",
    "($\\Theta$) in Kelvin:\n",
    "\n",
    "$$ f(\\Theta) =  0.5 \\ln(\\Theta^2) $$\n"
   ]
  },
  {
   "cell_type": "code",
   "execution_count": null,
   "metadata": {},
   "outputs": [],
   "source": [
    "f = 0.5 * np.log(sst_kelvin**2)\n",
    "f"
   ]
  },
  {
   "cell_type": "markdown",
   "metadata": {},
   "source": [
    "## Applying Arbitrary Functions\n",
    "\n",
    "It's awesome that we can call `np.log(ds)` and have it \"just work\". However, not\n",
    "all third party libraries work this way.\n",
    "\n",
    "In this example, we will use functions from the\n",
    "[Gibbs Seawater Toolkit](https://teos-10.github.io/GSW-Python/), a package for\n",
    "the thermodynamics of seawater. This package provides ufuncs that operate on\n",
    "numpy arrays.\n"
   ]
  },
  {
   "cell_type": "code",
   "execution_count": null,
   "metadata": {},
   "outputs": [],
   "source": [
    "import gsw\n",
    "\n",
    "# an example function\n",
    "# http://www.teos-10.org/pubs/gsw/html/gsw_t90_from_t68.html\n",
    "?gsw.t90_from_t68"
   ]
  },
  {
   "cell_type": "code",
   "execution_count": null,
   "metadata": {},
   "outputs": [],
   "source": [
    "gsw.t90_from_t68(ds.sst)  # -> returns a numpy array"
   ]
  },
  {
   "cell_type": "markdown",
   "metadata": {},
   "source": [
    "It would be nice to keep our dimensions and coordinates. We can accomplish this\n",
    "with `xr.apply_ufunc`.\n"
   ]
  },
  {
   "cell_type": "code",
   "execution_count": null,
   "metadata": {},
   "outputs": [],
   "source": [
    "xr.apply_ufunc(gsw.t90_from_t68, ds.sst)"
   ]
  },
  {
   "cell_type": "markdown",
   "metadata": {},
   "source": [
    "<div class=\"alert alert-info\">\n",
    "    <strong>Note:</strong> <code>apply_ufunc</code> is a powerful and mysterious function.\n",
    "    It has many options for doing more complicated things.\n",
    "    Unfortunately, we don't have time to go into more depth here.\n",
    "    Please consult the [Xarray docs](http://xarray.pydata.org/en/latest/generated/xarray.apply_ufunc.html) for more details.\n",
    "</div>\n"
   ]
  },
  {
   "cell_type": "markdown",
   "metadata": {},
   "source": [
    "## Reductions\n",
    "\n",
    "Just like in numpy, we can reduce xarray DataArrays along any number of axes:\n"
   ]
  },
  {
   "cell_type": "code",
   "execution_count": null,
   "metadata": {},
   "outputs": [],
   "source": [
    "sst = ds.sst\n",
    "sst.mean(axis=0)"
   ]
  },
  {
   "cell_type": "code",
   "execution_count": null,
   "metadata": {},
   "outputs": [],
   "source": [
    "sst.mean(axis=(1, 2))"
   ]
  },
  {
   "cell_type": "code",
   "execution_count": null,
   "metadata": {},
   "outputs": [],
   "source": [
    "sst.mean()"
   ]
  },
  {
   "cell_type": "markdown",
   "metadata": {},
   "source": [
    "However, rather than performing reductions on axes (as in numpy), we can perform\n",
    "them on dimensions. This turns out to be a huge convenience, particularly in\n",
    "complex calculations when you can't easily remember which axis corresponds to\n",
    "which dimension:\n"
   ]
  },
  {
   "cell_type": "code",
   "execution_count": null,
   "metadata": {},
   "outputs": [],
   "source": [
    "sst.mean(dim=\"time\")"
   ]
  },
  {
   "cell_type": "markdown",
   "metadata": {},
   "source": [
    "All of the standard numpy reductions (e.g. `min`, `max`, `sum`, `std`, etc.) are\n",
    "available\n"
   ]
  },
  {
   "cell_type": "markdown",
   "metadata": {
    "tags": []
   },
   "source": [
    "### Exercise\n",
    "\n",
    "Take the mean of `sst` in both longitude and latitude. Make a simple timeseries\n",
    "plot:\n"
   ]
  },
  {
   "cell_type": "code",
   "execution_count": null,
   "metadata": {},
   "outputs": [],
   "source": [
    "# your code here"
   ]
  },
  {
   "cell_type": "markdown",
   "metadata": {},
   "source": [
    "## Weighted Reductions\n",
    "\n",
    "For this example, we will create a “weights” array proportional to cosine of latitude.\n",
    "Modulo a normalization, this is the correct area-weighting factor for data on a regular lat-lon grid.\n"
   ]
  },
  {
   "cell_type": "code",
   "execution_count": null,
   "metadata": {},
   "outputs": [],
   "source": [
    "weights = np.cos(np.deg2rad(ds.lat))\n",
    "weights.dims"
   ]
  },
  {
   "cell_type": "markdown",
   "metadata": {},
   "source": [
    "Thanks to the automatic broadcasting and alignment discussed earlier, if we multiply this by SST, it “just works,” and the arrays are broadcasted properly:"
   ]
  },
  {
   "cell_type": "code",
   "execution_count": null,
   "metadata": {},
   "outputs": [],
   "source": [
    "(ds.sst * weights).dims"
   ]
  },
  {
   "cell_type": "markdown",
   "metadata": {},
   "source": [
    "We could imagine computing the weighted spatial mean of SST manually."
   ]
  },
  {
   "cell_type": "code",
   "execution_count": null,
   "metadata": {},
   "outputs": [],
   "source": [
    "sst_mean = (ds.sst * weights).sum(dim=(\"lon\", \"lat\")) / weights.sum(dim=\"lat\")\n",
    "sst_mean.plot()\n",
    "plt.title(\"This is wrong!\")"
   ]
  },
  {
   "cell_type": "markdown",
   "metadata": {},
   "source": [
    "That would be wrong, however, because the denominator (`weights.sum(dim='lat')`)\n",
    "needs to be expanded to include the `lon` dimension and modified to account for\n",
    "the missing values (land points).\n",
    "\n",
    "In general, weighted reductions on multidimensional arrays are complicated. To\n",
    "make it a bit easier, Xarray provides a mechanism for weighted reductions. It\n",
    "does this by creating a special intermediate `DataArrayWeighted` object, to\n",
    "which different reduction operations can applied.\n"
   ]
  },
  {
   "cell_type": "code",
   "execution_count": null,
   "metadata": {},
   "outputs": [],
   "source": [
    "sst_weighted = ds.sst.weighted(weights)\n",
    "sst_weighted"
   ]
  },
  {
   "cell_type": "code",
   "execution_count": null,
   "metadata": {},
   "outputs": [],
   "source": [
    "sst_weighted.mean(dim=(\"lon\", \"lat\")).plot()\n",
    "plt.title(\"Correct Global Mean SST\")"
   ]
  }
 ],
 "metadata": {
  "kernelspec": {
   "display_name": "Python 3 (ipykernel)",
   "language": "python",
   "name": "python3"
  },
  "language_info": {
   "codemirror_mode": {
    "name": "ipython",
    "version": 3
   },
   "file_extension": ".py",
   "mimetype": "text/x-python",
   "name": "python",
   "nbconvert_exporter": "python",
   "pygments_lexer": "ipython3",
   "version": "3.9.12"
  },
  "widgets": {
   "application/vnd.jupyter.widget-state+json": {
    "state": {},
    "version_major": 2,
    "version_minor": 0
   }
  }
 },
 "nbformat": 4,
 "nbformat_minor": 4
}
