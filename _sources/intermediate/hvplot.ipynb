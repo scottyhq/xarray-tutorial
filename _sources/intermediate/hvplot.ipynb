{
 "cells": [
  {
   "cell_type": "markdown",
   "id": "0",
   "metadata": {},
   "source": [
    "# Interactive plots using hvplot\n",
    "\n",
    "Xarray's builtin plotting functionality wraps matplotlib.\n",
    "\n",
    "The `holoviews` [ecosystem](https://hvplot.holoviz.org/) provides the `hvplot` package to allow easy\n",
    "visualization of xarray (and other) objects. These\n",
    "plots build on [Bokeh](https://bokeh.org/).\n",
    "\n",
    "`hvplot` makes uses of xarray's [accessor interface](https://docs.xarray.dev/en/stable/internals/extending-xarray.html). This means that all xarray\n",
    "objects gain a `.hvplot` attribute that lets you access `.hvplot` functionality\n",
    "as easily as you would use `.plot`. All you need to do is `import hvplot.xarray`\n",
    "\n",
    "For more, see hvplot's [documentation](https://hvplot.holoviz.org/user_guide/Gridded_Data.html)\n"
   ]
  },
  {
   "cell_type": "code",
   "execution_count": null,
   "id": "1",
   "metadata": {},
   "outputs": [],
   "source": [
    "import cartopy.crs as ccrs\n",
    "import hvplot.xarray\n",
    "import xarray as xr"
   ]
  },
  {
   "cell_type": "code",
   "execution_count": null,
   "id": "2",
   "metadata": {},
   "outputs": [],
   "source": [
    "ds = xr.tutorial.open_dataset(\"air_temperature.nc\").rename({\"air\": \"Tair\"})"
   ]
  },
  {
   "cell_type": "markdown",
   "id": "3",
   "metadata": {},
   "source": [
    "## Basics\n",
    "\n",
    "`hvplot` makes the same default choices as `DataArray.plot`\n"
   ]
  },
  {
   "cell_type": "code",
   "execution_count": null,
   "id": "4",
   "metadata": {},
   "outputs": [],
   "source": [
    "ds.Tair.hvplot()"
   ]
  },
  {
   "cell_type": "code",
   "execution_count": null,
   "id": "5",
   "metadata": {},
   "outputs": [],
   "source": [
    "# 2D array yields a quadmesh plot\n",
    "ds.Tair.isel(time=1).hvplot(cmap=\"fire\")"
   ]
  },
  {
   "cell_type": "code",
   "execution_count": null,
   "id": "6",
   "metadata": {},
   "outputs": [],
   "source": [
    "# 1D array yields a line plot\n",
    "ds.Tair.isel(time=1, lon=1).hvplot()"
   ]
  },
  {
   "cell_type": "markdown",
   "id": "7",
   "metadata": {},
   "source": [
    "## Interactivity\n",
    "\n",
    "But `hvplot` shines when interactivity is used. Here we can give it _all_ the\n",
    "data and ask it to create a nice slider to control the time slice using the\n",
    "`groupby` kwarg.\n"
   ]
  },
  {
   "cell_type": "code",
   "execution_count": null,
   "id": "8",
   "metadata": {},
   "outputs": [],
   "source": [
    "ds.Tair.hvplot(\n",
    "    groupby=\"time\",\n",
    "    clim=(250, 295),  # adds a widget for time  # sets colorbar limits\n",
    ")"
   ]
  },
  {
   "cell_type": "markdown",
   "id": "9",
   "metadata": {},
   "source": [
    "## Animations\n",
    "\n",
    "are easy.\n"
   ]
  },
  {
   "cell_type": "code",
   "execution_count": null,
   "id": "10",
   "metadata": {},
   "outputs": [],
   "source": [
    "# set constant colorbar limits\n",
    "ds.Tair.hvplot(\n",
    "    groupby=\"time\",  # adds a widget for time\n",
    "    clim=(250, 295),  # sets colormap limits\n",
    "    widget_type=\"scrubber\",\n",
    "    widget_location=\"bottom\",\n",
    ")"
   ]
  },
  {
   "cell_type": "markdown",
   "id": "11",
   "metadata": {},
   "source": [
    "## Geography\n"
   ]
  },
  {
   "cell_type": "code",
   "execution_count": null,
   "id": "12",
   "metadata": {},
   "outputs": [],
   "source": [
    "ds.Tair.isel(time=1).hvplot(\n",
    "    projection=ccrs.Orthographic(-90, 30),\n",
    "    coastline=True,\n",
    ")"
   ]
  }
 ],
 "metadata": {
  "language_info": {
   "codemirror_mode": {
    "name": "ipython",
    "version": 3
   },
   "file_extension": ".py",
   "mimetype": "text/x-python",
   "name": "python",
   "nbconvert_exporter": "python",
   "pygments_lexer": "ipython3"
  }
 },
 "nbformat": 4,
 "nbformat_minor": 5
}
