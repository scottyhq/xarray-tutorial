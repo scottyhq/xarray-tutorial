{
 "cells": [
  {
   "cell_type": "markdown",
   "metadata": {},
   "source": [
    "# Boolean Indexing & Masking\n",
    "\n",
    "## Learning Objectives\n",
    "\n",
    "* The concept of boolean masks\n",
    "* Dropping/Masking data using `where`\n",
    "* Using `isin` for creating a boolean mask"
   ]
  },
  {
   "cell_type": "markdown",
   "metadata": {},
   "source": [
    "## Overview\n",
    "\n",
    "*Boolean masking*, known as *boolean indexing*, is a functionality in Python that enables the filtering of values based on a specific condition.\n",
    "\n",
    "A boolean mask refers to a binary array or a boolean-valued (`True`/`False`) array that is used as a *filter* to select specific elements from another array. The boolean mask acts as a criterion or condition, where each element in the mask corresponds to an element in the target array. An element in the target array is selected when the corresponding `mask` value is `True`. \n",
    "\n",
    "Xarray provides different capabilities to allow filtering and boolean indexing. In this notebook, we will learn more about it.\n",
    "\n",
    "First, let's import the packages needed for this notebook: "
   ]
  },
  {
   "cell_type": "code",
   "execution_count": null,
   "metadata": {},
   "outputs": [],
   "source": [
    "import cartopy.crs as ccrs\n",
    "import numpy as np\n",
    "import xarray as xr\n",
    "from matplotlib import pyplot as plt\n",
    "import matplotlib as mpl\n",
    "\n",
    "xr.set_options(display_expand_attrs=False)\n",
    "np.set_printoptions(threshold=10, edgeitems=2)"
   ]
  },
  {
   "cell_type": "markdown",
   "metadata": {},
   "source": [
    "In this tutorial, we’ll use the Regional Arctic System Mode (RASM) example dataset"
   ]
  },
  {
   "cell_type": "code",
   "execution_count": null,
   "metadata": {},
   "outputs": [],
   "source": [
    "ds = xr.tutorial.load_dataset(\"rasm\").isel(time=0)\n",
    "ds"
   ]
  },
  {
   "cell_type": "markdown",
   "metadata": {},
   "source": [
    "In this dataset, the logical coordinates are `x` and `y`, while the physical coordinates are `xc` and `yc`, which represent the latitudes and longitude of the data."
   ]
  },
  {
   "cell_type": "code",
   "execution_count": null,
   "metadata": {},
   "outputs": [],
   "source": [
    "print(ds.xc.attrs)\n",
    "print(ds.yc.attrs)"
   ]
  },
  {
   "cell_type": "code",
   "execution_count": null,
   "metadata": {},
   "outputs": [],
   "source": [
    "da = ds.Tair\n",
    "da"
   ]
  },
  {
   "cell_type": "markdown",
   "metadata": {},
   "source": [
    "## Masking with `where()`\n",
    "\n",
    "Indexing methods on Xarray objects generally return a subset of the original data. However, it is sometimes useful to select an object with the same shape as the original data, but with some elements masked. \n",
    "\n",
    "By applying `.where()`, the original data's shape is maintained, with values masked based on a Boolean condition. Values that satisfy the condition (`True`) are returned unchanged, while values that do not meet the condition (`False`) are replaced with a predefined value.\n",
    "\n",
    "In the example below, we replace all `nan` values with `-9999`:"
   ]
  },
  {
   "cell_type": "code",
   "execution_count": null,
   "metadata": {},
   "outputs": [],
   "source": [
    "# Let's replace the missing values (nan) with some placeholder\n",
    "ds.Tair.where(ds.Tair.notnull(), -9999)"
   ]
  },
  {
   "cell_type": "markdown",
   "metadata": {},
   "source": [
    "As you can see, in the example above `.where()` preserved the **shape** of the original data by masking the values with a boolean condition. \n",
    "\n",
    "Most uses of `.where()` check whether or not specific data values are less than or greater than a constant value. \n",
    "\n",
    "The data values specified in the boolean condition of `.where()` can be any of the following:\n",
    "\n",
    "* a `DataArray`\n",
    "* a `Dataset`\n",
    "* a function\n",
    "\n",
    "In the following example, we make use of `.where()` to mask all temperature below 0°C.\n",
    "\n"
   ]
  },
  {
   "cell_type": "code",
   "execution_count": null,
   "metadata": {},
   "outputs": [],
   "source": [
    "da_masked = da.where(da >= 0)\n",
    "\n",
    "# -- making both plots for comparison:\n",
    "fig, axes = plt.subplots(ncols=2, figsize=(15, 5))\n",
    "\n",
    "# -- for reference (without masking):\n",
    "da.plot(ax=axes[0], vmin=-30, vmax=30, cmap=mpl.cm.RdBu_r)\n",
    "\n",
    "# -- masked DataArray\n",
    "da_masked.plot(ax=axes[1], vmin=-30, vmax=30, cmap=mpl.cm.RdBu_r);"
   ]
  },
  {
   "cell_type": "markdown",
   "metadata": {},
   "source": [
    "```{tip}\n",
    "By default Xarray set the masked values to `nan`. But as we saw in the first example, we can set it to other values too. \n",
    "```"
   ]
  },
  {
   "cell_type": "markdown",
   "metadata": {},
   "source": [
    "```{exercise}\n",
    ":label: boolean-2\n",
    "\n",
    "Using the syntax you’ve learned so far, mask all the points with latitudes above 60° N.\n",
    "```\n"
   ]
  },
  {
   "cell_type": "code",
   "execution_count": null,
   "metadata": {},
   "outputs": [],
   "source": [
    "# write your answer here!"
   ]
  },
  {
   "cell_type": "markdown",
   "metadata": {},
   "source": [
    "````{solution} boolean-2\n",
    ":class: dropdown\n",
    "```python\n",
    "da_masked = da.where(da.yc >= 60)\n",
    "da_masked[:, :].plot();\n",
    "```\n",
    "````"
   ]
  },
  {
   "cell_type": "markdown",
   "metadata": {},
   "source": [
    "As mentioned above, by default `where` maintains the original size of the data. You can use  the option `drop=True` to clip coordinate elements that are fully masked:"
   ]
  },
  {
   "cell_type": "code",
   "execution_count": null,
   "metadata": {},
   "outputs": [],
   "source": [
    "da_masked = da.where(da.yc > 60, drop=True)\n",
    "da_masked.plot();"
   ]
  },
  {
   "cell_type": "markdown",
   "metadata": {},
   "source": [
    "Please note that in this dataset, the variables `xc` (longitude) and `yc` (latitude) are two-dimensional scalar fields.\n",
    "\n",
    "When we plotted the data variable `Tair`, by default we get the logical coordinates (i.e. `x` and `y`) as we show in the example above. \n",
    "\n",
    "In order to visualize the data on a conventional latitude-longitude grid, we can take advantage of Xarray’s ability to apply `cartopy` map projections."
   ]
  },
  {
   "cell_type": "code",
   "execution_count": null,
   "metadata": {},
   "outputs": [],
   "source": [
    "plt.figure(figsize=(14, 6))\n",
    "ax = plt.axes(projection=ccrs.PlateCarree())\n",
    "ax.set_global()\n",
    "ds.Tair.plot.pcolormesh(ax=ax, transform=ccrs.PlateCarree(), x=\"xc\", y=\"yc\", add_colorbar=False)\n",
    "ax.coastlines()\n",
    "ax.set_ylim([20, 90]);"
   ]
  },
  {
   "cell_type": "markdown",
   "metadata": {},
   "source": [
    "### Using `where` with Multiple Conditions\n"
   ]
  },
  {
   "cell_type": "markdown",
   "metadata": {},
   "source": [
    "In Xarray's `.where()` function, boolean conditions can be combined using logical operators. The bitwise `and` operator (`&`) and the bitwise `or` operator (`|`) are relevant in this case. This allows for specifying multiple masking conditions within a single `.where()` statement.\n",
    "\n",
    "We can select data for one specific region using bound boxes. For example, here we want to access data over a region over Alaska :"
   ]
  },
  {
   "cell_type": "code",
   "execution_count": null,
   "metadata": {},
   "outputs": [],
   "source": [
    "# -- define a region\n",
    "min_lon = 190\n",
    "min_lat = 55\n",
    "max_lon = 230\n",
    "max_lat = 85"
   ]
  },
  {
   "cell_type": "markdown",
   "metadata": {},
   "source": [
    "First we have to create our boolean masks:"
   ]
  },
  {
   "cell_type": "code",
   "execution_count": null,
   "metadata": {},
   "outputs": [],
   "source": [
    "mask_lon = (ds.xc >= min_lon) & (ds.xc <= max_lon)\n",
    "mask_lat = (ds.yc >= min_lat) & (ds.yc <= max_lat)"
   ]
  },
  {
   "cell_type": "markdown",
   "metadata": {},
   "source": [
    "Next, we can use the boolean masks for filtering data for that region: "
   ]
  },
  {
   "cell_type": "code",
   "execution_count": null,
   "metadata": {},
   "outputs": [],
   "source": [
    "da_masked = da.where(mask_lon & mask_lat, drop=True)\n",
    "\n",
    "da_masked.plot();"
   ]
  },
  {
   "cell_type": "code",
   "execution_count": null,
   "metadata": {},
   "outputs": [],
   "source": [
    "plt.figure(figsize=(5, 5))\n",
    "ax = plt.axes(projection=ccrs.PlateCarree())\n",
    "ax.set_global()\n",
    "da_masked.plot.pcolormesh(ax=ax, transform=ccrs.PlateCarree(), x=\"xc\", y=\"yc\", add_colorbar=False)\n",
    "ax.coastlines()\n",
    "ax.set_ylim([50, 80])\n",
    "ax.set_xlim([-180, -120]);"
   ]
  },
  {
   "cell_type": "markdown",
   "metadata": {},
   "source": [
    "### Exercise\n",
    "\n",
    "If we load air temperature dataset from NCEP, we could use `sel` method for selecting a region:\n"
   ]
  },
  {
   "cell_type": "markdown",
   "metadata": {},
   "source": [
    "````{exercise}\n",
    ":label: boolean-1\n",
    "\n",
    "If we load air temperature dataset from NCEP, we could use `sel` method for selecting a region:\n",
    "\n",
    "```python\n",
    "ds = xr.tutorial.open_dataset(\"air_temperature\")\n",
    "ds_region = ds.sel(lat=slice(75,50), lon=slice(250,300))\n",
    "\n",
    "ds_region.air.plot();\n",
    "```\n",
    "Can you use a similar method as above using `sel` to crop a region using the RASM dataset? Why?\n",
    "\n",
    "````\n",
    "\n",
    "````{solution} boolean-1\n",
    ":class: dropdown\n",
    "This method will not work here as the dimensions are different from coordinates here.  Specifically, the variables xc (longitude) and yc (latitude) are two-dimensional scalar fields, which differ from the logical coordinates represented by x and y.\n",
    "\n",
    "So the code below will not give the correct answer!\n",
    "```python\n",
    "cropped_ds = ds.sel(x=slice(min_lat,max_lat), y=slice(min_lon,max_lon))\n",
    "cropped_ds.Tair.plot()\n",
    "```\n",
    "````\n"
   ]
  },
  {
   "cell_type": "markdown",
   "metadata": {},
   "source": [
    "### Using `xr.where` with a Function\n",
    "\n",
    "We can use `xr.where` with a function as a condition too. For example, here we want to convert temperature to Kelvin and find if temperature is greater than 280 K:\n"
   ]
  },
  {
   "cell_type": "code",
   "execution_count": null,
   "metadata": {},
   "outputs": [],
   "source": [
    "# Define a function to use as a condition\n",
    "def is_greater_than_threshold(x, threshold=300):\n",
    "    # function to convert temp to K\n",
    "    # and compare with threshold\n",
    "    x = x + 273.15\n",
    "    return x > threshold\n",
    "\n",
    "\n",
    "# Apply the condition using xarray.where()\n",
    "masked_data = xr.where(is_greater_than_threshold(da, 280), da, 0)\n",
    "\n",
    "masked_data.plot()"
   ]
  },
  {
   "cell_type": "markdown",
   "metadata": {},
   "source": [
    "## Selecting Values with `isin`\n",
    "\n",
    "To check whether elements of an xarray object contain a single object, you can compare with the equality operator `==` (e.g., `arr == 3`). \n",
    "\n",
    "To check multiple values, we use `isin()`:"
   ]
  },
  {
   "cell_type": "markdown",
   "metadata": {},
   "source": [
    "Here is a simple example: "
   ]
  },
  {
   "cell_type": "code",
   "execution_count": null,
   "metadata": {},
   "outputs": [],
   "source": [
    "x_da = xr.DataArray([1, 2, 3, 4, 5], dims=[\"x\"])\n",
    "\n",
    "# -- select points with values equal to 2 and 4:\n",
    "x_da.isin([2, 4])"
   ]
  },
  {
   "cell_type": "markdown",
   "metadata": {},
   "source": [
    "```{tip}\n",
    "`isin()` works particularly well with `where()` to support indexing by arrays that are not already labels of an array. \n",
    "```\n",
    "\n",
    "For example, we have another `DataArray` that displays the status flags of the data-collecting device for our data. \n",
    "\n",
    "Here, flags with value 0 and -1 signifies the device was functioning correctly, while 0 indicates a malfunction, implying that the resulting data collected may not be accurate."
   ]
  },
  {
   "cell_type": "code",
   "execution_count": null,
   "metadata": {},
   "outputs": [],
   "source": [
    "flags = xr.DataArray(np.random.randint(-1, 5, da.shape), dims=da.dims, coords=da.coords)\n",
    "flags"
   ]
  },
  {
   "cell_type": "markdown",
   "metadata": {},
   "source": [
    "Now, we want to only see the data for points where out measurement device is working correctly: "
   ]
  },
  {
   "cell_type": "code",
   "execution_count": null,
   "metadata": {},
   "outputs": [],
   "source": [
    "da_masked = da.where(flags.isin([1, 2, 3, 4, 5]), drop=True)\n",
    "da_masked.plot();"
   ]
  },
  {
   "cell_type": "markdown",
   "metadata": {},
   "source": [
    "```{warning}\n",
    "Please note that when done repeatedly, this type of indexing is significantly slower than using `sel()`. \n",
    "\n",
    "Use `sel` instead of `where` as much as possible.\n",
    "```"
   ]
  },
  {
   "cell_type": "markdown",
   "metadata": {},
   "source": [
    "## Additional Resources\n",
    "\n",
    "- [Xarray Docs - Indexing and Selecting Data](https://docs.xarray.dev/en/stable/indexing.html)\n"
   ]
  }
 ],
 "metadata": {
  "language_info": {
   "codemirror_mode": {
    "name": "ipython",
    "version": 3
   },
   "file_extension": ".py",
   "mimetype": "text/x-python",
   "name": "python",
   "nbconvert_exporter": "python",
   "pygments_lexer": "ipython3"
  },
  "toc": {
   "base_numbering": 1,
   "nav_menu": {},
   "number_sections": true,
   "sideBar": true,
   "skip_h1_title": false,
   "title_cell": "Table of Contents",
   "title_sidebar": "Contents",
   "toc_cell": true,
   "toc_position": {},
   "toc_section_display": true,
   "toc_window_display": true
  }
 },
 "nbformat": 4,
 "nbformat_minor": 4
}
