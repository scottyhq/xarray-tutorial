{
 "cells": [
  {
   "cell_type": "markdown",
   "metadata": {},
   "source": [
    "<img src=\"http://xarray.pydata.org/en/stable/_static/dataset-diagram-logo.png\" align=\"right\" width=\"30%\">\n",
    "\n",
    "# Data structures for multi-dimensional data\n",
    "\n",
    "In this lesson, we discuss cover the basics of Xarray data structures. Our\n",
    "learning goals are as follows. By the end of the lesson, we will be able to:\n",
    "\n",
    "- Understand the basic data structures in Xarray\n",
    "- Build and inspect `DataArray` and `Dataset` objects.\n",
    "- Read and write various data formats (e.g. NetCDF, Zarr) using Xarray.\n",
    "\n",
    "---\n",
    "\n",
    "## Introduction\n",
    "\n",
    "Multi-dimensional (a.k.a. N-dimensional, ND) arrays (sometimes called “tensors”)\n",
    "are an essential part of computational science. They are encountered in a wide\n",
    "range of fields, including physics, astronomy, geoscience, bioinformatics,\n",
    "engineering, finance, and deep learning. In Python, [NumPy](https://numpy.org/)\n",
    "provides the fundamental data structure and API for working with raw ND arrays.\n",
    "However, real-world datasets are usually more than just raw numbers; they have\n",
    "labels which encode information about how the array values map to locations in\n",
    "space, time, etc.\n",
    "\n",
    "Here is an example of how we might structure a dataset for a weather forecast:\n",
    "\n",
    "<img src=\"http://xarray.pydata.org/en/stable/_images/dataset-diagram.png\" align=\"center\" width=\"80%\">\n",
    "\n",
    "You'll notice multiple data variables (temperature, precipitation), coordinate\n",
    "variables (latitude, longitude), and dimensions (x, y, t). We'll cover how these\n",
    "fit into Xarray's data structures below.\n",
    "\n",
    "Xarray doesn’t just keep track of labels on arrays – it uses them to provide a\n",
    "powerful and concise interface. For example:\n",
    "\n",
    "- Apply operations over dimensions by name: `x.sum('time')`.\n",
    "\n",
    "- Select values by label (or logical location) instead of integer location:\n",
    "  `x.loc['2014-01-01']` or `x.sel(time='2014-01-01')`.\n",
    "\n",
    "- Mathematical operations (e.g., `x - y`) vectorize across multiple dimensions\n",
    "  (array broadcasting) based on dimension names, not shape.\n",
    "\n",
    "- Easily use the split-apply-combine paradigm with groupby:\n",
    "  `x.groupby('time.dayofyear').mean()`.\n",
    "\n",
    "- Database-like alignment based on coordinate labels that smoothly handles\n",
    "  missing values: `x, y = xr.align(x, y, join='outer')`.\n",
    "\n",
    "- Keep track of arbitrary metadata in the form of a Python dictionary:\n",
    "  `x.attrs`.\n",
    "\n",
    "The N-dimensional nature of xarray’s data structures makes it suitable for\n",
    "dealing with multi-dimensional scientific data, and its use of dimension names\n",
    "instead of axis labels (`dim='time'` instead of `axis=0`) makes such arrays much\n",
    "more manageable than the raw numpy ndarray: with xarray, you don’t need to keep\n",
    "track of the order of an array’s dimensions or insert dummy dimensions of size 1\n",
    "to align arrays (e.g., using np.newaxis).\n",
    "\n",
    "The immediate payoff of using xarray is that you’ll write less code. The\n",
    "long-term payoff is that you’ll understand what you were thinking when you come\n",
    "back to look at it weeks or months later.\n"
   ]
  },
  {
   "cell_type": "markdown",
   "metadata": {},
   "source": [
    "## Data structures\n",
    "\n",
    "Xarray provides two data structures: the `DataArray` and `Dataset`. The\n",
    "`DataArray` class attaches dimension names, coordinates and attributes to\n",
    "multi-dimensional arrays while `Dataset` combines multiple arrays.\n",
    "\n",
    "Both classes are most commonly created by reading data, but to understand them\n",
    "let's first look at creating them programmatically.\n",
    "\n",
    "### DataArray\n",
    "\n",
    "The `DataArray` class is used to attach a name, dimension names, labels, and\n",
    "attributes to an array.\n",
    "\n",
    "As an example, let's create a `DataArray` named `a` with three dimensions (named\n",
    "`x`, `y`, `z`) from a `numpy` array:\n"
   ]
  },
  {
   "cell_type": "code",
   "execution_count": null,
   "metadata": {},
   "outputs": [],
   "source": [
    "import numpy as np\n",
    "import xarray as xr\n",
    "\n",
    "rng = np.random.default_rng(seed=0)  # we'll use this later"
   ]
  },
  {
   "cell_type": "code",
   "execution_count": null,
   "metadata": {},
   "outputs": [],
   "source": [
    "da = xr.DataArray(\n",
    "    np.ones((3, 4, 2)),\n",
    "    dims=(\"x\", \"y\", \"z\"),\n",
    "    name=\"a\",\n",
    "    coords={\"z\": [-1, 1], \"u\": (\"x\", [0.1, 1.2, 2.3])},\n",
    "    attrs={\"attr\": \"value\"},\n",
    ")"
   ]
  },
  {
   "cell_type": "markdown",
   "metadata": {},
   "source": [
    "In this case, we used a 3x4 `numpy` array with all values being equal to `1`,\n",
    "but it can be anything that either behaves like a `numpy` array or can be\n",
    "coerced to a `numpy` array using\n",
    "[`numpy.array`](https://numpy.org/doc/stable/reference/generated/numpy.array.html).\n",
    "\n",
    "We also passed a sequence (a tuple here, but could also be a list) containing\n",
    "the dimension names `x`, `y`, and `z` to `dims`. In case we have only a single\n",
    "dimension we can also pass just the dimension name. For example:\n",
    "\n",
    "```python\n",
    "xr.DataArray([1, 1], dims=\"x\")\n",
    "```\n",
    "\n",
    "The dimension names (and the array's `name`) can be anything that fits into a\n",
    "python `set` (i.e. calling `hash()` on it doesn't raise an error), but to be\n",
    "useful they should be strings.\n",
    "\n",
    "`coords` is a [dict-like](https://docs.python.org/3/glossary.html#term-mapping)\n",
    "container of arrays (coordinates) that label each point (e.g., 1-dimensional\n",
    "arrays of numbers, datetime objects or strings). We will look at its format\n",
    "later.\n",
    "\n",
    "We can also attach arbitrary metadata (attributes) to the `DataArray` by passing\n",
    "a dict-like to the `attrs` parameter.\n",
    "\n",
    "#### String representations\n",
    "\n",
    "Now that we have the `DataArray` we can look at its string representation.\n",
    "\n",
    "xarray has two representation types: `\"html\"` (which is only available in\n",
    "notebooks) and `\"text\"`. To choose between them, use the `display_style` option.\n",
    "\n",
    "Let's first look at the text representation:\n"
   ]
  },
  {
   "cell_type": "code",
   "execution_count": null,
   "metadata": {},
   "outputs": [],
   "source": [
    "with xr.set_options(display_style=\"text\"):\n",
    "    display(da)"
   ]
  },
  {
   "cell_type": "markdown",
   "metadata": {},
   "source": [
    "It consists of:\n",
    "\n",
    "- the name of the `DataArray` (`'a'`). If we didn't provide a name, this will be\n",
    "  omitted\n",
    "- the dimensions of the array `(x: 3, y: 4, z: 2)`: this tells us that the first\n",
    "  dimension is named `x` and has a size of `3`, the second dimension is named\n",
    "  `y` and has a size of `4`, and the third dimension is named `z` and has a size\n",
    "  of `2`\n",
    "- a preview of the data\n",
    "- a (unordered) list of coordinates or dimensions with coordinates with one item\n",
    "  per line. Each item has a name, one or more dimensions in parentheses, a dtype\n",
    "  and a preview of the values. Also, if it is a dimension coordinate, it will be\n",
    "  marked with a `*`.\n",
    "- a alphabetically sorted list of dimensions without coordinates\n",
    "- a (unordered) list of attributes\n",
    "\n",
    "The `\"html\"` representation looks similar:\n"
   ]
  },
  {
   "cell_type": "code",
   "execution_count": null,
   "metadata": {},
   "outputs": [],
   "source": [
    "with xr.set_options(display_style=\"html\"):\n",
    "    display(da)"
   ]
  },
  {
   "cell_type": "markdown",
   "metadata": {},
   "source": [
    "except the data preview was collapsed to a single line (we can expand it by\n",
    "clicking on the symbol on the left) and the dimensions are marked by a bold font\n",
    "instead of a `*` prefix.\n",
    "\n",
    "Going forward, we'll use the HTML representation except when explaining the text\n",
    "representation.\n"
   ]
  },
  {
   "cell_type": "markdown",
   "metadata": {},
   "source": [
    "Once we have created the `DataArray`, we can look at its data:\n"
   ]
  },
  {
   "cell_type": "code",
   "execution_count": null,
   "metadata": {},
   "outputs": [],
   "source": [
    "da.data"
   ]
  },
  {
   "cell_type": "code",
   "execution_count": null,
   "metadata": {},
   "outputs": [],
   "source": [
    "da.dims"
   ]
  },
  {
   "cell_type": "code",
   "execution_count": null,
   "metadata": {},
   "outputs": [],
   "source": [
    "da.coords"
   ]
  },
  {
   "cell_type": "code",
   "execution_count": null,
   "metadata": {},
   "outputs": [],
   "source": [
    "da.attrs"
   ]
  },
  {
   "cell_type": "markdown",
   "metadata": {},
   "source": [
    "#### coordinates\n",
    "\n",
    "As mentioned above, `coords` is a dict-like mapping names to values. These\n",
    "values can be either\n",
    "\n",
    "- another `DataArray` object\n",
    "- a tuple of the form `(dims, data, attrs)` where `attrs` is optional. This is\n",
    "  roughly equivalent to creating a new `DataArray` object with\n",
    "  `DataArray(dims=dims, data=data, attrs=attrs)`\n",
    "- a `numpy` array (or anything that can be coerced to one using `numpy.array`).\n",
    "\n",
    "Let's look at an example:\n"
   ]
  },
  {
   "cell_type": "code",
   "execution_count": null,
   "metadata": {},
   "outputs": [],
   "source": [
    "da = xr.DataArray(\n",
    "    np.ones((3, 4)),\n",
    "    dims=(\"x\", \"y\"),\n",
    "    coords={\n",
    "        \"x\": [\"a\", \"b\", \"c\"],\n",
    "        \"y\": np.arange(4),\n",
    "        \"u\": (\"x\", np.arange(3), {\"attr1\": 0}),\n",
    "    },\n",
    ")\n",
    "da"
   ]
  },
  {
   "cell_type": "markdown",
   "metadata": {},
   "source": [
    "We can see that we assigned labels to the `x` and `y` dimensions and also\n",
    "created a coordinate named `u` along `x` with its own metadata (click on the\n",
    "sheet icon to look at them).\n",
    "\n",
    "The difference between the dimension labels (dimension coordinates) and normal\n",
    "coordinates is that for now it only is possible to use indexing operations\n",
    "(`sel`, `reindex`, etc) with dimension coordinates. Also, while coordinates can\n",
    "have arbitrary dimensions, dimension coordinates have to be one-dimensional.\n"
   ]
  },
  {
   "cell_type": "markdown",
   "metadata": {},
   "source": [
    "#### Exercises\n",
    "\n",
    "create a `DataArray` named \"height\" from random data\n",
    "\n",
    "1. with dimensions named \"latitude\" and \"longitude\"\n"
   ]
  },
  {
   "cell_type": "code",
   "execution_count": null,
   "metadata": {},
   "outputs": [],
   "source": [
    "height = rng.random((180, 360)) * 400\n",
    "xr.DataArray(\n",
    "    # your code here\n",
    ")"
   ]
  },
  {
   "cell_type": "markdown",
   "metadata": {},
   "source": [
    "2. with dimension coordinates:\n",
    "\n",
    "- \"latitude\": -90 to 90 with step size 1\n",
    "- \"longitude\": -180 to 180 with step size 1\n"
   ]
  },
  {
   "cell_type": "code",
   "execution_count": null,
   "metadata": {},
   "outputs": [],
   "source": [
    "xr.DataArray(\n",
    "    # your code here\n",
    ")"
   ]
  },
  {
   "cell_type": "markdown",
   "metadata": {},
   "source": [
    "3. with metadata for both data and coordinates:\n",
    "\n",
    "- height: \"type\": \"ellipsoid\"\n",
    "- latitude: \"type\": \"geodetic\"\n",
    "- longitude: \"prime_meridian\": \"greenwich\"\n"
   ]
  },
  {
   "cell_type": "code",
   "execution_count": null,
   "metadata": {},
   "outputs": [],
   "source": [
    "xr.DataArray(\n",
    "    # your code here\n",
    ")"
   ]
  },
  {
   "cell_type": "markdown",
   "metadata": {},
   "source": [
    "### Dataset\n",
    "\n",
    "`Dataset` objects collect multiple data variables, each with possibly different\n",
    "dimensions.\n",
    "\n",
    "The constructor of `Dataset` takes three parameters:\n",
    "\n",
    "- `data_vars`: dict-like mapping names to values. It has the format described in\n",
    "  [coordinates](#coordinates) except we need to use either `DataArray` objects\n",
    "  or the tuple syntax since we have to provide dimensions\n",
    "- `coords`: same as for `DataArray`\n",
    "- `attrs`: same as for `Dataset`\n",
    "\n",
    "For example, let's create a `Dataset` with two variables:\n"
   ]
  },
  {
   "cell_type": "code",
   "execution_count": null,
   "metadata": {},
   "outputs": [],
   "source": [
    "ds = xr.Dataset(\n",
    "    data_vars={\n",
    "        \"a\": ((\"x\", \"y\"), np.ones((3, 4))),\n",
    "        \"b\": (\"t\", np.full((8,), 3), {\"attr\": \"value\"}),\n",
    "    },\n",
    "    coords={\n",
    "        \"x\": [-1, 0, 1],\n",
    "    },\n",
    "    attrs={\"attr\": \"value\"},\n",
    ")"
   ]
  },
  {
   "cell_type": "markdown",
   "metadata": {},
   "source": [
    "#### String representations\n",
    "\n",
    "Let's again first look at the text representation:\n"
   ]
  },
  {
   "cell_type": "code",
   "execution_count": null,
   "metadata": {},
   "outputs": [],
   "source": [
    "with xr.set_options(display_style=\"text\"):\n",
    "    display(ds)"
   ]
  },
  {
   "cell_type": "markdown",
   "metadata": {},
   "source": [
    "It consists of\n",
    "\n",
    "- a summary of all dimensions in the dataset and their lengths\n",
    "- a unordered list of coordinates (same format as the `DataArray`)\n",
    "- a unordered list of dimensions without coordinates\n",
    "- a unordered list of data variables: each item has the same format as the\n",
    "  coordinates with the exception of the dimension mark (`*`)\n",
    "\n",
    "Again, the HTML representation is similar:\n"
   ]
  },
  {
   "cell_type": "code",
   "execution_count": null,
   "metadata": {},
   "outputs": [],
   "source": [
    "with xr.set_options(display_style=\"html\"):\n",
    "    display(ds)"
   ]
  },
  {
   "cell_type": "markdown",
   "metadata": {},
   "source": [
    "#### coordinates\n",
    "\n",
    "As with `DataArray`, a `Dataset` really becomes useful once we assign\n",
    "coordinates. Here we also introduce using Pandas datetime objects as coordinate\n",
    "values:\n"
   ]
  },
  {
   "cell_type": "code",
   "execution_count": null,
   "metadata": {},
   "outputs": [],
   "source": [
    "import pandas as pd\n",
    "\n",
    "xr.Dataset(\n",
    "    data_vars={\n",
    "        \"a\": ((\"x\", \"y\"), np.ones((3, 4))),\n",
    "        \"b\": ((\"t\", \"x\"), np.full((8, 3), 3)),\n",
    "    },\n",
    "    coords={\n",
    "        \"x\": [\"a\", \"b\", \"c\"],\n",
    "        \"y\": np.arange(4),\n",
    "        \"t\": pd.date_range(\"2020-07-05\", periods=8, freq=\"D\"),\n",
    "    },\n",
    ")"
   ]
  },
  {
   "cell_type": "markdown",
   "metadata": {},
   "source": [
    "If we have variables with different values along the same dimension, we can't\n",
    "use the shortcut syntax anymore. Instead, we need to use `DataArray` objects:\n"
   ]
  },
  {
   "cell_type": "code",
   "execution_count": null,
   "metadata": {},
   "outputs": [],
   "source": [
    "x_a = np.arange(1, 4)\n",
    "x_b = np.arange(-1, 3)\n",
    "\n",
    "a = xr.DataArray(np.linspace(0, 1, 3), dims=\"x\", coords={\"x\": x_a})\n",
    "b = xr.DataArray(np.zeros(4), dims=\"x\", coords={\"x\": x_b})\n",
    "\n",
    "xr.Dataset(data_vars={\"a\": a, \"b\": b})"
   ]
  },
  {
   "cell_type": "markdown",
   "metadata": {},
   "source": [
    "which combines the coordinates and fills in floating-point `nan` values for\n",
    "missing data (converting the data type to `float` in the process). For example,\n",
    "`b` doesn't have a value for `x == 3` so `nan` was used.\n"
   ]
  },
  {
   "cell_type": "markdown",
   "metadata": {},
   "source": [
    "#### Exercises\n",
    "\n",
    "1. create a Dataset with two variables along `latitude` and `longitude`:\n",
    "   `height` and `gravity_anomaly`\n"
   ]
  },
  {
   "cell_type": "code",
   "execution_count": null,
   "metadata": {},
   "outputs": [],
   "source": [
    "height = rng.random((180, 360)) * 400\n",
    "gravity_anomaly = rng.random((180, 360)) * 400 - 200\n",
    "\n",
    "xr.Dataset(\n",
    "    # your code here\n",
    ")"
   ]
  },
  {
   "cell_type": "markdown",
   "metadata": {},
   "source": [
    "2. add coordinates to `latitude` and `longitude`:\n",
    "\n",
    "- `latitude`: from -90 to 90 with step size 1\n",
    "- `longitude`: from -180 to 180 with step size 1\n"
   ]
  },
  {
   "cell_type": "code",
   "execution_count": null,
   "metadata": {},
   "outputs": [],
   "source": [
    "xr.Dataset(\n",
    "    # your code here\n",
    ")"
   ]
  },
  {
   "cell_type": "markdown",
   "metadata": {},
   "source": [
    "3. add metadata to coordinates and variables:\n",
    "\n",
    "- `latitude`: \"type\": \"geodetic\"\n",
    "- `longitude`: \"prime_meridian\": \"greenwich\"\n",
    "- `height`: \"ellipsoid\": \"wgs84\"\n",
    "- `gravity_anomaly`: \"ellipsoid\": \"grs80\"\n"
   ]
  },
  {
   "cell_type": "code",
   "execution_count": null,
   "metadata": {},
   "outputs": [],
   "source": [
    "xr.Dataset(\n",
    "    # your code here\n",
    ")"
   ]
  },
  {
   "cell_type": "markdown",
   "metadata": {},
   "source": [
    "## Roundtripping and I/O\n",
    "\n",
    "`DataArray` and `Dataset` objects are frequently created by converting from\n",
    "other libraries such as [pandas](https://pandas.pydata.org/) or by reading from\n",
    "data storage formats such as\n",
    "[NetCDF](https://www.unidata.ucar.edu/software/netcdf/) or\n",
    "[zarr](https://zarr.readthedocs.io/en/stable/).\n",
    "\n",
    "To convert from / to `pandas`, we can use the\n",
    "<code>[to_xarray](https://pandas.pydata.org/pandas-docs/stable/reference/api/pandas.DataFrame.to_xarray.html)</code>\n",
    "methods on [pandas](https://zarr.readthedocs.io/en/stable/) objects or the\n",
    "<code>[to_pandas](http://xarray.pydata.org/en/stable/generated/xarray.DataArray.to_pandas.html)</code>\n",
    "methods on `xarray` objects:\n"
   ]
  },
  {
   "cell_type": "code",
   "execution_count": null,
   "metadata": {},
   "outputs": [],
   "source": [
    "series = pd.Series(np.ones((10,)), index=list(\"abcdefghij\"))\n",
    "series"
   ]
  },
  {
   "cell_type": "code",
   "execution_count": null,
   "metadata": {},
   "outputs": [],
   "source": [
    "arr = series.to_xarray()\n",
    "arr"
   ]
  },
  {
   "cell_type": "code",
   "execution_count": null,
   "metadata": {},
   "outputs": [],
   "source": [
    "arr.to_pandas()"
   ]
  },
  {
   "cell_type": "markdown",
   "metadata": {},
   "source": [
    "We can also control what `pandas` object is used by calling `to_series` /\n",
    "`to_dataframe`:\n"
   ]
  },
  {
   "cell_type": "code",
   "execution_count": null,
   "metadata": {},
   "outputs": [],
   "source": [
    "ds = xr.Dataset(data_vars={\"a\": (\"x\", np.arange(5)), \"b\": ((\"x\", \"y\"), np.ones((5, 4)))})"
   ]
  },
  {
   "cell_type": "markdown",
   "metadata": {},
   "source": [
    "**<code>to_series</code>**: This will always convert `DataArray` objects to\n",
    "`pandas.Series`, using a `MultiIndex` for higher dimensions\n"
   ]
  },
  {
   "cell_type": "code",
   "execution_count": null,
   "metadata": {},
   "outputs": [],
   "source": [
    "ds.a.to_series()"
   ]
  },
  {
   "cell_type": "code",
   "execution_count": null,
   "metadata": {},
   "outputs": [],
   "source": [
    "ds.b.to_series()"
   ]
  },
  {
   "cell_type": "markdown",
   "metadata": {},
   "source": [
    "**<code>to_dataframe</code>**: This will always convert `DataArray` or `Dataset`\n",
    "objects to a `pandas.DataFrame`. Note that `DataArray` objects have to be named\n",
    "for this.\n"
   ]
  },
  {
   "cell_type": "code",
   "execution_count": null,
   "metadata": {},
   "outputs": [],
   "source": [
    "ds.a.to_dataframe()"
   ]
  },
  {
   "cell_type": "markdown",
   "metadata": {},
   "source": [
    "Since columns in a `DataFrame` need to have the same index, they are\n",
    "broadcasted.\n"
   ]
  },
  {
   "cell_type": "code",
   "execution_count": null,
   "metadata": {},
   "outputs": [],
   "source": [
    "ds.to_dataframe()"
   ]
  },
  {
   "cell_type": "markdown",
   "metadata": {},
   "source": [
    "### I/O\n",
    "\n",
    "One of Xarray's most widely used features is its ability to read from and write\n",
    "to a variety of data formats. For example, Xarray can read the following\n",
    "formats:\n",
    "\n",
    "- [NetCDF](https://www.unidata.ucar.edu/software/netcdf/) / GRIB (via\n",
    "  `open_dataset` / `open_mfdataset`, `to_netcdf` / `save_mfdataset`)\n",
    "- [Zarr](https://zarr.readthedocs.io/en/stable/) (via `open_zarr`, `to_zarr`)\n",
    "- [GeoTIFF](https://gdal.org/drivers/raster/gtiff.html) /\n",
    "  [GDAL rasters](https://svn.osgeo.org/gdal/tags/gdal_1_2_5/frmts/formats_list.html)\n",
    "  (via `open_rasterio`)\n",
    "\n",
    "#### NetCDF\n",
    "\n",
    "The recommended way to store xarray data structures is NetCDF, which is a binary\n",
    "file format for self-described datasets that originated in the geosciences.\n",
    "Xarray is based on the netCDF data model, so netCDF files on disk directly\n",
    "correspond to Dataset objects.\n",
    "\n",
    "Xarray reads and writes to NetCDF files using the `open_dataset` /\n",
    "`open_dataarray` functions and the `to_netcdf` method.\n",
    "\n",
    "Let's first create some datasets and write them to disk using `to_netcdf`, which\n",
    "takes the path we want to write to:\n"
   ]
  },
  {
   "cell_type": "code",
   "execution_count": null,
   "metadata": {},
   "outputs": [],
   "source": [
    "ds1 = xr.Dataset(\n",
    "    data_vars={\n",
    "        \"a\": ((\"x\", \"y\"), np.random.randn(4, 2)),\n",
    "        \"b\": ((\"z\", \"x\"), np.random.randn(6, 4)),\n",
    "    },\n",
    "    coords={\n",
    "        \"x\": np.arange(4),\n",
    "        \"y\": np.arange(-2, 0),\n",
    "        \"z\": np.arange(-3, 3),\n",
    "    },\n",
    ")\n",
    "ds2 = xr.Dataset(\n",
    "    data_vars={\n",
    "        \"a\": ((\"x\", \"y\"), np.random.randn(7, 3)),\n",
    "        \"b\": ((\"z\", \"x\"), np.random.randn(2, 7)),\n",
    "    },\n",
    "    coords={\n",
    "        \"x\": np.arange(6, 13),\n",
    "        \"y\": np.arange(3),\n",
    "        \"z\": np.arange(3, 5),\n",
    "    },\n",
    ")\n",
    "\n",
    "# write datasets\n",
    "ds1.to_netcdf(\"ds1.nc\")\n",
    "ds2.to_netcdf(\"ds2.nc\")\n",
    "\n",
    "# write dataarray\n",
    "ds1.a.to_netcdf(\"da1.nc\")"
   ]
  },
  {
   "cell_type": "markdown",
   "metadata": {},
   "source": [
    "Reading those files is just as simple:\n"
   ]
  },
  {
   "cell_type": "code",
   "execution_count": null,
   "metadata": {},
   "outputs": [],
   "source": [
    "xr.open_dataset(\"ds1.nc\")"
   ]
  },
  {
   "cell_type": "code",
   "execution_count": null,
   "metadata": {},
   "outputs": [],
   "source": [
    "xr.open_dataarray(\"da1.nc\")"
   ]
  },
  {
   "cell_type": "markdown",
   "metadata": {},
   "source": [
    "#### Zarr\n",
    "\n",
    "[Zarr](https://zarr.readthedocs.io/en/stable/) is a Python package and data\n",
    "format providing an implementation of chunked, compressed, N-dimensional arrays.\n",
    "Zarr has the ability to store arrays in a range of ways, including in memory, in\n",
    "files, and in cloud-based object storage such as Amazon S3 and Google Cloud\n",
    "Storage. Xarray’s Zarr backend allows xarray to leverage these capabilities.\n",
    "\n",
    "Zarr files can be written with:\n"
   ]
  },
  {
   "cell_type": "code",
   "execution_count": null,
   "metadata": {},
   "outputs": [],
   "source": [
    "ds1.to_zarr(\"ds1.zarr\", mode=\"w\")"
   ]
  },
  {
   "cell_type": "raw",
   "metadata": {},
   "source": [
    "or to any `MutableMapping` interface:"
   ]
  },
  {
   "cell_type": "code",
   "execution_count": null,
   "metadata": {},
   "outputs": [],
   "source": [
    "mystore = {}\n",
    "\n",
    "ds1.to_zarr(store=mystore)"
   ]
  },
  {
   "cell_type": "markdown",
   "metadata": {},
   "source": [
    "We can then read the created file with:\n"
   ]
  },
  {
   "cell_type": "code",
   "execution_count": null,
   "metadata": {},
   "outputs": [],
   "source": [
    "xr.open_zarr(\"ds1.zarr\", chunks=None)"
   ]
  },
  {
   "cell_type": "markdown",
   "metadata": {},
   "source": [
    "setting the `chunks` parameter to `None` avoids `dask` (more on that in a later\n",
    "session)\n"
   ]
  }
 ],
 "metadata": {
  "kernelspec": {
   "display_name": "Python 3 (ipykernel)",
   "language": "python",
   "name": "python3"
  },
  "language_info": {
   "codemirror_mode": {
    "name": "ipython",
    "version": 3
   },
   "file_extension": ".py",
   "mimetype": "text/x-python",
   "name": "python",
   "nbconvert_exporter": "python",
   "pygments_lexer": "ipython3",
   "version": "3.9.12"
  }
 },
 "nbformat": 4,
 "nbformat_minor": 4
}
