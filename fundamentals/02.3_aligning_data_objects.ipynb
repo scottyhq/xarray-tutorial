{
 "cells": [
  {
   "cell_type": "markdown",
   "metadata": {},
   "source": [
    "<img src=\"http://xarray.pydata.org/en/stable/_static/dataset-diagram-logo.png\" align=\"right\" width=\"30%\">\n",
    "\n",
    "# Working with Multiple Objects\n",
    "\n",
    "Learning goals:\n",
    "\n",
    "- Perform operations across multiple datasets\n",
    "- Understand two important concepts: broadcasting and alignment."
   ]
  },
  {
   "cell_type": "code",
   "execution_count": null,
   "metadata": {},
   "outputs": [],
   "source": [
    "import matplotlib.pyplot as plt\n",
    "import numpy as np\n",
    "import xarray as xr\n",
    "\n",
    "%config InlineBackend.figure_format='retina'\n",
    "\n",
    "plt.style.use(\"bmh\")\n",
    "\n",
    "np.random.seed(0)"
   ]
  },
  {
   "cell_type": "markdown",
   "metadata": {},
   "source": [
    "Here is a motivating calculating where we subtract two DataArrays with different dimensions and data available at different locations in the (x, y) plane."
   ]
  },
  {
   "cell_type": "code",
   "execution_count": null,
   "metadata": {},
   "outputs": [],
   "source": [
    "arr1 = xr.DataArray(\n",
    "    np.arange(12).reshape(3, 4),\n",
    "    dims=(\"x\", \"y\"),\n",
    "    coords={\"x\": [\"a\", \"b\", \"c\"], \"y\": [0, 1, 2, 3]},\n",
    ")\n",
    "arr2 = xr.DataArray(\n",
    "    [0, 1],\n",
    "    dims=\"x\",\n",
    "    coords={\"x\": [\"b\", \"d\"]},\n",
    ")\n",
    "arr1 - arr2"
   ]
  },
  {
   "cell_type": "markdown",
   "metadata": {},
   "source": [
    "To understand this output, we must understand two fundamental concepts underlying computation with Xarray objects\n",
    "\n",
    "1. Broadcasting: The objects need to have compatible shapes.\n",
    "2. Alignment: The objects need to have values at the same coordinate labels\n",
    "\n"
   ]
  },
  {
   "cell_type": "markdown",
   "metadata": {},
   "source": [
    "## Broadcasting: adjusting arrays to the same shape\n",
    "\n",
    "Broadcasting refers to the alignment of arrays with different numbers of\n",
    "dimensions. Numpy's broadcasting rules, based on array shape, can sometimes be\n",
    "difficult to understand and remember. Xarray does broadcasting by dimension name,\n",
    "rather than array shape. This is a huge convenience.\n",
    "\n",
    "\n",
    "Here is a 2D array"
   ]
  },
  {
   "cell_type": "code",
   "execution_count": null,
   "metadata": {},
   "outputs": [],
   "source": [
    "arr = xr.DataArray(\n",
    "    np.arange(12).reshape(3, 4),\n",
    "    dims=(\"x\", \"y\"),\n",
    "    coords={\"x\": [\"a\", \"b\", \"c\"], \"y\": [0, 1, 2, 3]},\n",
    ")\n",
    "arr"
   ]
  },
  {
   "cell_type": "markdown",
   "metadata": {},
   "source": [
    "Let's calculate an anomaly with respect to the mean along the `\"y\"` dimension. This is now a 1D array"
   ]
  },
  {
   "cell_type": "code",
   "execution_count": null,
   "metadata": {},
   "outputs": [],
   "source": [
    "mean = arr.mean(\"y\")\n",
    "mean"
   ]
  },
  {
   "cell_type": "code",
   "execution_count": null,
   "metadata": {},
   "outputs": [],
   "source": [
    "anom = arr - mean\n",
    "anom"
   ]
  },
  {
   "cell_type": "markdown",
   "metadata": {},
   "source": [
    "We see that the result is a 2D array. \n",
    "\n",
    "When subtracting, Xarray first realizes that `mean` is missing the dimension `y`.  Xarray then broadcasts or \"expands\" `mean` to 2D with dimensions `x`, `y`. This operation is nicely illustrated in the second row of this image from _Jake VanderPlas Python Data Science Handbook_\n",
    "\n",
    "<img src=\"https://jakevdp.github.io/PythonDataScienceHandbook/figures/02.05-broadcasting.png\">\n",
    "\n",
    "While this detail is hidden, we can explicitly broadcast any number of arrays against each other using [xr.broadcast](https://xarray.pydata.org/en/stable/generated/xarray.broadcast.html)"
   ]
  },
  {
   "cell_type": "code",
   "execution_count": null,
   "metadata": {},
   "outputs": [],
   "source": [
    "arr_broadcasted, mean_broadcasted = xr.broadcast(arr, mean)\n",
    "mean_broadcasted"
   ]
  },
  {
   "cell_type": "markdown",
   "metadata": {},
   "source": [
    "We see  that `arr_broadcasted` is identical to `arr` since there are no new dimensions that needed to be added"
   ]
  },
  {
   "cell_type": "code",
   "execution_count": null,
   "metadata": {},
   "outputs": [],
   "source": [
    "arr_broadcasted.identical(arr)"
   ]
  },
  {
   "cell_type": "markdown",
   "metadata": {},
   "source": [
    "To get the final anomaly, Xarray calculates"
   ]
  },
  {
   "cell_type": "code",
   "execution_count": null,
   "metadata": {},
   "outputs": [],
   "source": [
    "arr_broadcasted - mean_broadcasted"
   ]
  },
  {
   "cell_type": "markdown",
   "metadata": {},
   "source": [
    "### Broadcasting in numpy\n",
    "\n",
    "For contrast let us examine the pure numpy version  of this calculation\n"
   ]
  },
  {
   "cell_type": "code",
   "execution_count": null,
   "metadata": {
    "tags": [
     "raises-exception"
    ]
   },
   "outputs": [],
   "source": [
    "arr.data - arr.mean(\"y\").data"
   ]
  },
  {
   "cell_type": "markdown",
   "metadata": {},
   "source": [
    "Instead we need to insert a new axis at the end manually."
   ]
  },
  {
   "cell_type": "code",
   "execution_count": null,
   "metadata": {},
   "outputs": [],
   "source": [
    "arr.data - arr.mean(\"y\").data[:, np.newaxis]"
   ]
  },
  {
   "cell_type": "markdown",
   "metadata": {},
   "source": [
    "\n",
    "Because xarray knows about dimension names we avoid having to create unnecessary\n",
    "size-1 dimensions using `np.newaxis` or `.reshape`. This is yet another example where the _metadata_ (dimension names) reduces the mental overhead associated with coding a calculation\n",
    "\n",
    "For more, see the [Xarray documentation](https://xarray.pydata.org/en/stable/computation.html#broadcasting-by-dimension-name) and the [numpy documentation](https://numpy.org/doc/stable/user/basics.broadcasting.html) on broadcasting.\n"
   ]
  },
  {
   "cell_type": "markdown",
   "metadata": {
    "tags": []
   },
   "source": [
    "## Alignment: putting data on the same grid\n",
    "\n",
    "\n",
    "Here are two 2D DataArrays with different shapes."
   ]
  },
  {
   "cell_type": "code",
   "execution_count": null,
   "metadata": {},
   "outputs": [],
   "source": [
    "arr1 = xr.DataArray(\n",
    "    np.arange(12).reshape(3, 4),\n",
    "    dims=(\"x\", \"y\"),\n",
    "    coords={\"x\": [\"a\", \"b\", \"c\"], \"y\": [0, 1, 2, 3]},\n",
    ")\n",
    "arr1"
   ]
  },
  {
   "cell_type": "code",
   "execution_count": null,
   "metadata": {},
   "outputs": [],
   "source": [
    "arr2 = xr.DataArray(\n",
    "    np.arange(14).reshape(2, 7),\n",
    "    dims=(\"x\", \"y\"),\n",
    "    coords={\"x\": [\"b\", \"d\"], \"y\": [-2, -1, 0, 1, 2, 3, 4]},\n",
    ")\n",
    "arr2"
   ]
  },
  {
   "cell_type": "markdown",
   "metadata": {},
   "source": [
    "`arr1` and `arr2` have the same dimensions (x, y) but have values at different locations in the (x,y) plane  with some locations in common.\n",
    "\n",
    ":::{note}\n",
    "xarray assumes coordinate labels are in the same coordinate system such that x='b' in arr1 is the same as x='b' in arr2. For more sophisticated handling of coordinate systems see [rioxarray](https://corteva.github.io/rioxarray/stable/)\n",
    ":::"
   ]
  },
  {
   "cell_type": "code",
   "execution_count": null,
   "metadata": {},
   "outputs": [],
   "source": [
    "def visualize_mesh(array, *args, ax=None, **kwargs):\n",
    "    \"\"\"Visualizes array's mesh ((points at which values are present).\"\"\"\n",
    "\n",
    "    # Use broadcast to generate 2D x_, y_ arrays from the 1D x,y arrays\n",
    "    x_, y_ = xr.broadcast(array.x, array.y)\n",
    "    if ax is None:\n",
    "        ax = plt.gca()\n",
    "    kwargs.setdefault(\"fillstyle\", \"none\")\n",
    "    ax.plot(x_.data.ravel(), y_.data.ravel(), markersize=10, *args, **kwargs)\n",
    "\n",
    "\n",
    "visualize_mesh(arr1, \"o\")\n",
    "visualize_mesh(arr2, \"x\")\n",
    "plt.ylim([-3, 6])\n",
    "plt.legend([\"arr1\", \"arr2\"])"
   ]
  },
  {
   "cell_type": "markdown",
   "metadata": {},
   "source": [
    "We see that both arrays only have values in common at `x=\"b\"` and `y=[0, 1, 2, 3]`. Before applying an arithmetic operation we must first modify each DataArray so that they have values at the *same* points. This is \"alignment\".\n",
    "\n",
    "### Controlling alignment\n",
    "\n",
    "We can explicitly align objects using [xr.align](https://xarray.pydata.org/en/stable/generated/xarray.align.html). The key decision to make is how to decide which points must be kept. The other way to think of alignment is that objects must be converted to a common grid prior to any operation combining multiiple objects. This decision is controlled by the `\"join\"` keyword argument. Xarray provides 5 ways to convert the coordinate labels of multiple Datasets to a common grid. This [terminology](https://en.wikipedia.org/wiki/Join_(SQL)) originates in the database community.\n",
    "\n",
    "1. `join=\"inner\"` or reindex to the \"intersection set\" of coordinate labels\n",
    "2. `join=\"outer\"` or reindex to the \"union set\" of coordinate labels\n",
    "3. `join=\"left\"`  or reindex to the coordinate labels of the leftmost object\n",
    "4. `join=\"right\"` or reindex to the coordinate labels of the rightmost object\n",
    "5. `join=\"exact\"` checks for exact equality of coordinate labels before the operation.\n",
    "\n",
    "First lets try an inner join. This is the default for arithmetic operations in Xarray. We see that the result has values for locations that `arr1` and `arr2` have in common: `x=\"b\"` and `y=[0, 1, 2, 3]`"
   ]
  },
  {
   "cell_type": "code",
   "execution_count": null,
   "metadata": {},
   "outputs": [],
   "source": [
    "a1_aligned, a2_aligned = xr.align(arr1, arr2, join=\"inner\")\n",
    "a1_aligned"
   ]
  },
  {
   "cell_type": "code",
   "execution_count": null,
   "metadata": {},
   "outputs": [],
   "source": [
    "a2_aligned"
   ]
  },
  {
   "cell_type": "markdown",
   "metadata": {},
   "source": [
    "Here's a visual depiction of all the `join` options"
   ]
  },
  {
   "cell_type": "code",
   "execution_count": null,
   "metadata": {
    "tags": [
     "hide-input"
    ]
   },
   "outputs": [],
   "source": [
    "def visualize_join(a1, a2, join, ax=None):\n",
    "    a1_aligned, a2_aligned = xr.align(arr1, arr2, join=join)\n",
    "\n",
    "    visualize_mesh(a1, \"o\", ax=ax)\n",
    "    visualize_mesh(a2, \"x\", ax=ax)\n",
    "    visualize_mesh(a1_aligned, \".\", fillstyle=\"full\", color='C3', ax=ax)\n",
    "\n",
    "    ax.set_ylim([-3, 6])\n",
    "    ax.set_title(f\"join={join!r}\")\n",
    "\n",
    "\n",
    "f, ax = plt.subplots(1, 4, sharex=True, sharey=True)\n",
    "for axx, join in zip(ax, [\"inner\", \"outer\", \"left\", \"right\"]):\n",
    "    visualize_join(arr1, arr2, join, ax=axx)\n",
    "ax[-1].legend([\"arr1\", \"arr2\", \"after align\"], bbox_to_anchor=(1, 1))\n",
    "f.set_size_inches(10, 4)"
   ]
  },
  {
   "cell_type": "markdown",
   "metadata": {
    "tags": []
   },
   "source": [
    "```{exercise-start}\n",
    ":label: exercise-alignment\n",
    "\n",
    "Consider the following two arrays. Write down the `x` and `y` coordinate locations for `da1 - da2\n",
    "```"
   ]
  },
  {
   "cell_type": "code",
   "execution_count": null,
   "metadata": {},
   "outputs": [],
   "source": [
    "da1 = xr.DataArray(\n",
    "    np.arange(12).reshape(3, 4),\n",
    "    dims=(\"x\", \"y\"),\n",
    "    coords={\"x\": [\"a\", \"b\", \"c\"], \"y\": [0, 1, 2, 3]},\n",
    ")\n",
    "da2 = xr.DataArray(\n",
    "    [0, 1],\n",
    "    dims=\"x\",\n",
    "    coords={\"x\": [\"b\", \"d\"]},\n",
    ")"
   ]
  },
  {
   "cell_type": "markdown",
   "metadata": {
    "jupyter": {
     "source_hidden": true
    },
    "tags": []
   },
   "source": [
    "```{exercise-end}\n",
    "```"
   ]
  },
  {
   "cell_type": "markdown",
   "metadata": {
    "jupyter": {
     "source_hidden": true
    },
    "tags": [
     "hide-input"
    ]
   },
   "source": [
    "```{solution} exercise-alignment\n",
    ":label: solution-alignment\n",
    ":class: dropdown\n",
    "\n",
    "`x = [\"b\"], y=[0, 1, 2, 3]` . `da2` has been broadcasted to 2D  (so dimension \"y\" has been inserted) and the two arrays are aligned using `join=\"inner\"` prior to subtraction.\n",
    "```"
   ]
  },
  {
   "cell_type": "markdown",
   "metadata": {},
   "source": [
    "## Further control over alignment\n",
    "\n",
    "### Controlling the fill value\n",
    "\n",
    "For all join options other than `\"inner\"` Xarray will insert a `fill_value` at locations not present in the original dataset. By default this is NaN"
   ]
  },
  {
   "cell_type": "code",
   "execution_count": null,
   "metadata": {},
   "outputs": [],
   "source": [
    "arr1_aligned, _ = xr.align(arr1, arr2, join=\"outer\")\n",
    "arr1_aligned"
   ]
  },
  {
   "cell_type": "markdown",
   "metadata": {},
   "source": [
    "Control the \"fill value\" by specifying the `fill_value` keyword argument"
   ]
  },
  {
   "cell_type": "code",
   "execution_count": null,
   "metadata": {},
   "outputs": [],
   "source": [
    "arr1_aligned, _ = xr.align(arr1, arr2, join=\"outer\", fill_value=0)\n",
    "arr1_aligned"
   ]
  },
  {
   "cell_type": "markdown",
   "metadata": {},
   "source": [
    "### Checking that objects are aligned\n",
    "\n",
    "`join=\"exact\"` is special in that it checks to make sure that the objects _are_ aligned.\n",
    "\n",
    "For `arr1` and `arr2` this will raise an error since `arr1.x` is not identical to `arr2.x` (and similarly for `y`)"
   ]
  },
  {
   "cell_type": "code",
   "execution_count": null,
   "metadata": {
    "tags": [
     "raises-exception"
    ]
   },
   "outputs": [],
   "source": [
    "xr.align(arr1, arr2, join=\"exact\")"
   ]
  },
  {
   "cell_type": "markdown",
   "metadata": {},
   "source": [
    "### Controlling automatic alignment\n",
    "\n",
    "Xarray's default for arithmetic operations is `join=\"inner\"`. This is controllable using the [xr.set_options](https://docs.xarray.dev/en/stable/generated/xarray.set_options.html) context manager"
   ]
  },
  {
   "cell_type": "code",
   "execution_count": null,
   "metadata": {},
   "outputs": [],
   "source": [
    "with xr.set_options(arithmetic_join=\"outer\"):\n",
    "    result = arr1 - arr2\n",
    "result"
   ]
  }
 ],
 "metadata": {
  "kernelspec": {
   "display_name": "Python 3 (ipykernel)",
   "language": "python",
   "name": "python3"
  },
  "language_info": {
   "codemirror_mode": {
    "name": "ipython",
    "version": 3
   },
   "file_extension": ".py",
   "mimetype": "text/x-python",
   "name": "python",
   "nbconvert_exporter": "python",
   "pygments_lexer": "ipython3",
   "version": "3.10.5"
  },
  "widgets": {
   "application/vnd.jupyter.widget-state+json": {
    "state": {},
    "version_major": 2,
    "version_minor": 0
   }
  }
 },
 "nbformat": 4,
 "nbformat_minor": 4
}
